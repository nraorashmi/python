{
 "cells": [
  {
   "cell_type": "markdown",
   "metadata": {},
   "source": [
    "1.Write a Python Program to Add Two Matrices?"
   ]
  },
  {
   "cell_type": "code",
   "execution_count": 1,
   "metadata": {},
   "outputs": [
    {
     "name": "stdout",
     "output_type": "stream",
     "text": [
      "[10, 10, 10]\n",
      "[9, 9, 9]\n",
      "[8, 8, 8]\n"
     ]
    }
   ],
   "source": [
    "a=[[1,2,3],\n",
    "   [3,4,5],\n",
    "  [4,5,6]]\n",
    "b=[[9,8,7],\n",
    "   [6,5,4],\n",
    "   [4,3,2]]\n",
    "c=[[0,0,0],\n",
    "   [0,0,0],\n",
    "   [0,0,0]]\n",
    "\n",
    "for i in range(len(a)):\n",
    "    for j in range(len(a[0])):\n",
    "        c[i][j]=a[i][j]+b[i][j]\n",
    "for k in c:        \n",
    "    print(k)"
   ]
  },
  {
   "cell_type": "code",
   "execution_count": 89,
   "metadata": {},
   "outputs": [
    {
     "name": "stdout",
     "output_type": "stream",
     "text": [
      "[[10, 10, 10, 4], [9, 9, 9, 13], [8, 8, 8, 10]]\n"
     ]
    }
   ],
   "source": [
    "a=[[1,2,3,4],\n",
    "   [3,4,5,5],\n",
    "  [4,5,6,1]]\n",
    "b=[[9,8,7,0],\n",
    "   [6,5,4,8],\n",
    "   [4,3,2,9]]\n",
    "\n",
    "c=[[a[i][j]+b[i][j] for j in range(len(a[0]))] for i in range(len(a))]\n",
    "\n",
    "print(c) "
   ]
  },
  {
   "cell_type": "markdown",
   "metadata": {},
   "source": [
    "2.Write a Python Program to Multiply Two Matrices?"
   ]
  },
  {
   "cell_type": "code",
   "execution_count": 74,
   "metadata": {},
   "outputs": [
    {
     "name": "stdout",
     "output_type": "stream",
     "text": [
      "matrix x has 2 columns\n",
      "matrix y has 2 rows\n",
      "matrix multiplication possible\n",
      "[10, 21, 7, 7]\n",
      "[20, 43, 19, 17]\n"
     ]
    }
   ],
   "source": [
    "x=[[1,2],\n",
    "  [3,4]] \n",
    "y=[[0,1,5,3],\n",
    "   [5,10,1,2]]\n",
    "z=[[0,0,0,0],[0,0,0,0]]\n",
    "print(\"matrix x has {} columns\". format(len(x[0])))\n",
    "print(\"matrix y has {} rows\". format(len(y)))\n",
    "if len(x[0])==len(y):\n",
    "    print(\"matrix multiplication possible\")\n",
    "    for i in range(len(x)):\n",
    "        for j in range(len(y[0])):\n",
    "            for k in range(len(y)):\n",
    "                z[i][j]+=x[i][k]*y[k][j]\n",
    "    for k in z:  \n",
    "        print(k)               \n",
    "else:\n",
    "    print(\"matrix multiplication not possible for given matrices.pls check\")\n"
   ]
  },
  {
   "cell_type": "code",
   "execution_count": 2,
   "metadata": {},
   "outputs": [
    {
     "name": "stdout",
     "output_type": "stream",
     "text": [
      "matrix x has 2 columns\n",
      "matrix y has 2 rows\n",
      "matrix multiplication possible\n",
      "[[10, 21, 7, 7], [20, 43, 19, 17]]\n"
     ]
    }
   ],
   "source": [
    "x=[[1,2],\n",
    "  [3,4]] \n",
    "y=[[0,1,5,3],\n",
    "   [5,10,1,2]]\n",
    "\n",
    "print(\"matrix x has {} columns\". format(len(x[0])))\n",
    "print(\"matrix y has {} rows\". format(len(y)))\n",
    "if len(x[0])==len(y):\n",
    "    \n",
    "    print(\"matrix multiplication possible\")\n",
    "    z= [[ sum((a*b) for a,b in zip(i,j)) for j in zip(*y)] for i in x]\n",
    "    print(z)            \n",
    "else:\n",
    "    print(\"matrix multiplication not possible for given matrices.pls check\")"
   ]
  },
  {
   "cell_type": "markdown",
   "metadata": {},
   "source": [
    "3.Write a Python Program to Transpose a Matrix?"
   ]
  },
  {
   "cell_type": "code",
   "execution_count": 82,
   "metadata": {},
   "outputs": [
    {
     "name": "stdout",
     "output_type": "stream",
     "text": [
      "[1, 3]\n",
      "[2, 4]\n",
      "[3, 5]\n"
     ]
    }
   ],
   "source": [
    "x=[[1,2,3],\n",
    "  [3,4,5]] \n",
    "y=[[0,0],[0,0],[0,0]] #non declaration of variable results in list index out of range error\n",
    "for i in range(len(x)):\n",
    "    for j in range(len(x[0])):\n",
    "        y[j][i]=x[i][j] \n",
    "for r in y:\n",
    "    print(r)"
   ]
  },
  {
   "cell_type": "code",
   "execution_count": 93,
   "metadata": {},
   "outputs": [
    {
     "name": "stdout",
     "output_type": "stream",
     "text": [
      "[1, 3]\n",
      "[2, 4]\n",
      "[3, 5]\n"
     ]
    }
   ],
   "source": [
    "x=[[1,2,3],\n",
    "  [3,4,5]] \n",
    "y=[[0,0],[0,0],[0,0]] \n",
    "y= [[x[j][i] for j in range(len(x))] for i in range(len(x[0]))]\n",
    "for r in y:\n",
    "    print(r)"
   ]
  },
  {
   "cell_type": "markdown",
   "metadata": {},
   "source": [
    "4.Write a Python Program to Sort Words in Alphabetic Order"
   ]
  },
  {
   "cell_type": "code",
   "execution_count": 100,
   "metadata": {},
   "outputs": [
    {
     "name": "stdout",
     "output_type": "stream",
     "text": [
      "alphabetic\n",
      "in\n",
      "order\n",
      "program\n",
      "python\n",
      "sort\n",
      "to\n",
      "words\n"
     ]
    }
   ],
   "source": [
    "def sort_words(s):\n",
    "    l= [i.lower() for i in s.split()]\n",
    "    l.sort()\n",
    "    for i in l:\n",
    "        print(i)\n",
    "sort_words(\"Python Program to Sort Words in Alphabetic Order\")        "
   ]
  },
  {
   "cell_type": "markdown",
   "metadata": {},
   "source": [
    "5.Write a Python Program to Remove Punctuation From a String?"
   ]
  },
  {
   "cell_type": "code",
   "execution_count": 112,
   "metadata": {},
   "outputs": [
    {
     "name": "stdout",
     "output_type": "stream",
     "text": [
      "Hello Python Program to remove    is ready \n"
     ]
    }
   ],
   "source": [
    "punctuations = '''!()-[]{};:'\"\\,<>./?@#$%^&*_~'''\n",
    "def remove_punctuation(s):\n",
    "    result=\"\"\n",
    "    for i in s:\n",
    "        if i not in punctuations:\n",
    "            result=result+i\n",
    "    print(result)\n",
    "remove_punctuation(\"##Hello! Python Program to remove * & $ is ready ##\") "
   ]
  },
  {
   "cell_type": "code",
   "execution_count": 117,
   "metadata": {},
   "outputs": [
    {
     "name": "stdout",
     "output_type": "stream",
     "text": [
      "Hello Python Program to remove    is ready \n"
     ]
    }
   ],
   "source": [
    "punctuations = '''!()-[]{};:'\"\\,<>./?@#$%^&*_~'''\n",
    "def remove_punctuation(s):\n",
    "    for i in s:\n",
    "        if i in punctuations:\n",
    "            s=s.replace(i,\"\")\n",
    "    print(s)\n",
    "remove_punctuation(\"##Hello! Python Program to remove * & $ is ready ##\") "
   ]
  },
  {
   "cell_type": "code",
   "execution_count": null,
   "metadata": {},
   "outputs": [],
   "source": []
  }
 ],
 "metadata": {
  "kernelspec": {
   "display_name": "Python 3",
   "language": "python",
   "name": "python3"
  },
  "language_info": {
   "codemirror_mode": {
    "name": "ipython",
    "version": 3
   },
   "file_extension": ".py",
   "mimetype": "text/x-python",
   "name": "python",
   "nbconvert_exporter": "python",
   "pygments_lexer": "ipython3",
   "version": "3.8.5"
  }
 },
 "nbformat": 4,
 "nbformat_minor": 4
}
