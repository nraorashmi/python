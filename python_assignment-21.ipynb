{
 "cells": [
  {
   "cell_type": "markdown",
   "metadata": {},
   "source": [
    "1. Add the current date to the text file today.txt as a string."
   ]
  },
  {
   "cell_type": "code",
   "execution_count": 1,
   "metadata": {},
   "outputs": [],
   "source": [
    "import datetime \n",
    "f=open('today.txt','w')\n",
    "dt=datetime.date.today()\n",
    "dat=dt.strftime(\"%d-%m-%Y\")\n",
    "f.write(dat)\n",
    "f.close()"
   ]
  },
  {
   "cell_type": "markdown",
   "metadata": {},
   "source": [
    "2. Read the text file today.txt into the string today_string"
   ]
  },
  {
   "cell_type": "code",
   "execution_count": 2,
   "metadata": {},
   "outputs": [],
   "source": [
    "f=open('today.txt','r')\n",
    "today_string=f.read()"
   ]
  },
  {
   "cell_type": "markdown",
   "metadata": {},
   "source": [
    "3. Parse the date from today_string."
   ]
  },
  {
   "cell_type": "code",
   "execution_count": 3,
   "metadata": {},
   "outputs": [
    {
     "name": "stdout",
     "output_type": "stream",
     "text": [
      "02-05-2021\n"
     ]
    }
   ],
   "source": [
    "print(today_string)"
   ]
  },
  {
   "cell_type": "markdown",
   "metadata": {},
   "source": [
    "4. List the files in your current directory"
   ]
  },
  {
   "cell_type": "code",
   "execution_count": null,
   "metadata": {},
   "outputs": [],
   "source": [
    "import os\n",
    "os.listdir(os.getcwd())"
   ]
  },
  {
   "cell_type": "markdown",
   "metadata": {},
   "source": [
    "5. Create a list of all of the files in your parent directory (minimum five files should be available)."
   ]
  },
  {
   "cell_type": "code",
   "execution_count": null,
   "metadata": {},
   "outputs": [],
   "source": [
    "os.chdir(\"..\")\n",
    "os.listdir()"
   ]
  },
  {
   "cell_type": "markdown",
   "metadata": {},
   "source": [
    "6. Use multiprocessing to create three separate processes. Make each one wait a random number of seconds between one and five, print the current time, and then exit."
   ]
  },
  {
   "cell_type": "code",
   "execution_count": 4,
   "metadata": {},
   "outputs": [
    {
     "name": "stdout",
     "output_type": "stream",
     "text": [
      "17:41:38\n",
      "17:41:40\n",
      "17:41:42\n"
     ]
    }
   ],
   "source": [
    "import multiprocessing \n",
    "import time\n",
    "import random\n",
    "for i in range(1,4):\n",
    "    p=multiprocessing.Process()\n",
    "    pause = random.randint(1,5)\n",
    "    time.sleep(pause)\n",
    "    print(time.strftime(\"%H:%M:%S\"))"
   ]
  },
  {
   "cell_type": "markdown",
   "metadata": {},
   "source": [
    "7. Create a date object of your day of birth."
   ]
  },
  {
   "cell_type": "code",
   "execution_count": 12,
   "metadata": {},
   "outputs": [
    {
     "name": "stdout",
     "output_type": "stream",
     "text": [
      "Enter your birthday in DD-MM-YYYY format 01-01-2011\n",
      "01-01-2011\n"
     ]
    }
   ],
   "source": [
    "import datetime\n",
    "dob=input(\"Enter your birthday in DD-MM-YYYY format \")\n",
    "dt = datetime.datetime.strptime(dob,\"%d-%m-%Y\")\n",
    "print(dt.strftime(\"%d-%m-%Y\"))"
   ]
  },
  {
   "cell_type": "markdown",
   "metadata": {},
   "source": [
    "8. What day of the week was your day of birth?"
   ]
  },
  {
   "cell_type": "code",
   "execution_count": 11,
   "metadata": {},
   "outputs": [
    {
     "name": "stdout",
     "output_type": "stream",
     "text": [
      "Enter your birthday in DD-MM-YYYY format 09-10-2010\n",
      "My b'day falls on Saturday\n"
     ]
    }
   ],
   "source": [
    "import datetime as dt\n",
    "week_day = ['Monday', 'Tuesday', 'Wednesday', 'Thursday',  'Friday', 'Saturday', 'Sunday'] #starts from Monday\n",
    "dob=input(\"Enter your birthday in DD-MM-YYYY format \")\n",
    "birthdate=dt.datetime.strptime(dob,\"%d-%m-%Y\")\n",
    "print(\"My b'day falls on\",week_day[dt.date.weekday(birthdate)])"
   ]
  },
  {
   "cell_type": "markdown",
   "metadata": {},
   "source": [
    "9. When will you be (or when were you) 10,000 days old?"
   ]
  },
  {
   "cell_type": "code",
   "execution_count": 9,
   "metadata": {},
   "outputs": [
    {
     "name": "stdout",
     "output_type": "stream",
     "text": [
      "enter your Birth Date in DD/MM/YYYY 01/10/2010\n",
      "I will be 10,000 days old on 16/02/2038\n"
     ]
    }
   ],
   "source": [
    "import datetime  \n",
    "birthday=input(\"Enter your Birth Date in DD/MM/YYYY \")  \n",
    "birthdate=datetime.datetime.strptime(birthday,\"%d/%m/%Y\")\n",
    "enddate=birthdate+datetime.timedelta(days=10000)  \n",
    "print(\"I will be 10,000 days old on\",datetime.date.strftime(enddate,\"%d/%m/%Y\")  )"
   ]
  },
  {
   "cell_type": "code",
   "execution_count": null,
   "metadata": {},
   "outputs": [],
   "source": []
  }
 ],
 "metadata": {
  "kernelspec": {
   "display_name": "Python 3",
   "language": "python",
   "name": "python3"
  },
  "language_info": {
   "codemirror_mode": {
    "name": "ipython",
    "version": 3
   },
   "file_extension": ".py",
   "mimetype": "text/x-python",
   "name": "python",
   "nbconvert_exporter": "python",
   "pygments_lexer": "ipython3",
   "version": "3.8.5"
  }
 },
 "nbformat": 4,
 "nbformat_minor": 4
}
