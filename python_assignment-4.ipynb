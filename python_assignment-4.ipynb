{
 "cells": [
  {
   "cell_type": "markdown",
   "metadata": {},
   "source": [
    "1.\tWhat exactly is []?"
   ]
  },
  {
   "cell_type": "markdown",
   "metadata": {},
   "source": [
    "Ans: It is an empty list"
   ]
  },
  {
   "cell_type": "markdown",
   "metadata": {},
   "source": [
    "2. In a list of values stored in a variable called spam, how would you assign the value 'hello' as the third value? \n",
    "(Assume [2, 4, 6, 8, 10] are in spam."
   ]
  },
  {
   "cell_type": "code",
   "execution_count": 1,
   "metadata": {},
   "outputs": [
    {
     "data": {
      "text/plain": [
       "[2, 4, 'hello', 6, 8, 10]"
      ]
     },
     "execution_count": 1,
     "metadata": {},
     "output_type": "execute_result"
    }
   ],
   "source": [
    "spam=[2,4,6,8,10]\n",
    "spam.insert(2,'hello') \n",
    "spam"
   ]
  },
  {
   "cell_type": "markdown",
   "metadata": {},
   "source": [
    "Let's pretend the spam includes the list ['a', 'b', 'c', 'd'] for the next three queries.\n",
    "3. What is the value of spam[int(int('3' * 2) / 11)]?"
   ]
  },
  {
   "cell_type": "code",
   "execution_count": 2,
   "metadata": {},
   "outputs": [
    {
     "data": {
      "text/plain": [
       "'d'"
      ]
     },
     "execution_count": 2,
     "metadata": {},
     "output_type": "execute_result"
    }
   ],
   "source": [
    "spam=['a', 'b', 'c', 'd']\n",
    "spam[int(int('3' * 2) / 11)] #Ans:'d'"
   ]
  },
  {
   "cell_type": "markdown",
   "metadata": {},
   "source": [
    "4. What is the value of spam[-1]?"
   ]
  },
  {
   "cell_type": "code",
   "execution_count": 3,
   "metadata": {},
   "outputs": [
    {
     "data": {
      "text/plain": [
       "'d'"
      ]
     },
     "execution_count": 3,
     "metadata": {},
     "output_type": "execute_result"
    }
   ],
   "source": [
    "spam[-1] #Ans:'d'"
   ]
  },
  {
   "cell_type": "markdown",
   "metadata": {},
   "source": [
    "5. What is the value of spam[:2]?"
   ]
  },
  {
   "cell_type": "code",
   "execution_count": 4,
   "metadata": {},
   "outputs": [
    {
     "data": {
      "text/plain": [
       "['a', 'b']"
      ]
     },
     "execution_count": 4,
     "metadata": {},
     "output_type": "execute_result"
    }
   ],
   "source": [
    "spam[:2] #Ans:['a','b']"
   ]
  },
  {
   "cell_type": "markdown",
   "metadata": {},
   "source": [
    "Let's pretend bacon has the list [3.14, 'cat,' 11, 'cat,' True] for the next three questions.\n",
    "\n",
    "6. What is the value of bacon.index('cat')?\n"
   ]
  },
  {
   "cell_type": "code",
   "execution_count": 11,
   "metadata": {},
   "outputs": [],
   "source": [
    "bacon=[3.14,'cat',11,'cat',True]"
   ]
  },
  {
   "cell_type": "code",
   "execution_count": 12,
   "metadata": {},
   "outputs": [
    {
     "data": {
      "text/plain": [
       "1"
      ]
     },
     "execution_count": 12,
     "metadata": {},
     "output_type": "execute_result"
    }
   ],
   "source": [
    "bacon.index('cat') #Ans:1"
   ]
  },
  {
   "cell_type": "markdown",
   "metadata": {},
   "source": [
    "7. How does bacon.append(99) change the look of the list value in bacon?"
   ]
  },
  {
   "cell_type": "code",
   "execution_count": 13,
   "metadata": {},
   "outputs": [
    {
     "data": {
      "text/plain": [
       "[3.14, 'cat', 11, 'cat', True, 99]"
      ]
     },
     "execution_count": 13,
     "metadata": {},
     "output_type": "execute_result"
    }
   ],
   "source": [
    "bacon.append(99)  #Ans:Appends 99 to the end of the list\n",
    "bacon"
   ]
  },
  {
   "cell_type": "markdown",
   "metadata": {},
   "source": [
    "8. How does bacon.remove('cat') change the look of the list meaning in bacon?"
   ]
  },
  {
   "cell_type": "code",
   "execution_count": 14,
   "metadata": {},
   "outputs": [
    {
     "data": {
      "text/plain": [
       "[3.14, 11, 'cat', True, 99]"
      ]
     },
     "execution_count": 14,
     "metadata": {},
     "output_type": "execute_result"
    }
   ],
   "source": [
    "bacon.remove('cat')  #Ans:Removes first occurrence of ‘cat’\n",
    "bacon"
   ]
  },
  {
   "cell_type": "markdown",
   "metadata": {},
   "source": [
    "9. What are the list concatenation and list replication operators?\n",
    "Ans:‘+’ and ‘*’ are the list concatenation and list replication operators respectively"
   ]
  },
  {
   "cell_type": "markdown",
   "metadata": {},
   "source": [
    "10. What is difference between the list methods append() and insert()?\n",
    "Ans: \n",
    "Append() method adds an item to the end of the list.\n",
    " The method takes a single argument i.e the item to be added at the end of the list\n",
    "\n",
    "The insert() method inserts an element to the list at the specified index. The insert() method takes two parameters:\n",
    "•\tindex - the index where the element needs to be inserted\n",
    "•\telement - which is to be inserted in the list\n",
    "All the elements after the inserted element are shifted to the right.\n"
   ]
  },
  {
   "cell_type": "markdown",
   "metadata": {},
   "source": [
    "11. What are the two methods for removing items from a list?\n",
    "Ans: pop() and remove()"
   ]
  },
  {
   "cell_type": "markdown",
   "metadata": {},
   "source": [
    "12. Describe how list values and string values are identical.\n",
    "Ans: The values of both list and string are iterable. \n"
   ]
  },
  {
   "cell_type": "markdown",
   "metadata": {},
   "source": [
    "13. What's the difference between tuples and lists?\n",
    "\n",
    "1\tLists are mutable.\tTuples are immutable\n",
    "2   The list is dynamic, whereas the tuple has static characteristics. \n",
    "3   The tuple is faster than the list because of static in nature. \n",
    "4\tThe list is better for performing operations such as insertion and deletion.Tuple is appropriate for accessing the elements\n",
    "5\tLists consume more memory.\tTuple consume less memory as compared to the list\n",
    "6\tLists have several built-in methods.Tuple does not have many built-in methods.\n",
    "7\tThe unexpected changes and errors are more likely to occur in list than\tin tuple\n"
   ]
  },
  {
   "cell_type": "markdown",
   "metadata": {},
   "source": [
    "14. How do you type a tuple value that only contains the integer 42?\n",
    "Ans:To create a tuple with only one item, add a comma after the item, unless Python will not recognize the variable as a tuple."
   ]
  },
  {
   "cell_type": "code",
   "execution_count": 16,
   "metadata": {},
   "outputs": [
    {
     "data": {
      "text/plain": [
       "tuple"
      ]
     },
     "execution_count": 16,
     "metadata": {},
     "output_type": "execute_result"
    }
   ],
   "source": [
    "a=(42,)\n",
    "type(a)"
   ]
  },
  {
   "cell_type": "markdown",
   "metadata": {},
   "source": [
    "15. How do you get a list value's tuple form? How do you get a tuple value's list form?\n",
    "Ans: by type casting"
   ]
  },
  {
   "cell_type": "code",
   "execution_count": 20,
   "metadata": {},
   "outputs": [
    {
     "name": "stdout",
     "output_type": "stream",
     "text": [
      "(1, 2, 3, 'a')\n",
      "[6, 7, 8, 'b']\n"
     ]
    }
   ],
   "source": [
    "l=[1,2,3,'a']\n",
    "l=tuple(l)\n",
    "print(l)\n",
    "s=(6,7,8,'b')\n",
    "s=list(s)\n",
    "print(s)"
   ]
  },
  {
   "cell_type": "markdown",
   "metadata": {},
   "source": [
    "16. Variables that \"contain\" list values are not necessarily lists themselves. Instead, what do they contain?\n",
    "Ans: iterables"
   ]
  },
  {
   "cell_type": "markdown",
   "metadata": {},
   "source": [
    "17. How do you distinguish between copy.copy() and copy.deepcopy()?\n",
    "Ans:\n",
    "1. copy.copy() is shallow copy of an object which won’t clone child objects. \n",
    "Therefore, the copy is not fully independent of the original.\n",
    "copy.deepcopy() is deep copy of an object will recursively clone child objects. The clone is fully independent of the original,\n",
    "2. Creating a deep copy is slower than shallow copy.\n"
   ]
  },
  {
   "cell_type": "code",
   "execution_count": 26,
   "metadata": {},
   "outputs": [
    {
     "name": "stdout",
     "output_type": "stream",
     "text": [
      "[[1, 2, 3], ['a', 'b', 'c'], [4, 5, 6], [7, 8, 'e']]\n",
      "[[1, 2, 3], ['a', 'b', 'c'], [4, 5, 6]]\n",
      "[[1, 2, 3], ['a', 'b', 'c'], ['m', 5, 6], [7, 8, 'e']]\n",
      "[[1, 2, 3], ['a', 'b', 'c'], ['m', 5, 6]]\n"
     ]
    }
   ],
   "source": [
    "import copy\n",
    "l1=[[1,2,3],['a','b','c'],[4,5,6]]\n",
    "l2=copy.copy(l1)\n",
    "l1.append([7,8,'e']) \n",
    "print(l1)\n",
    "print(l2)    #Note, contents appended in l1 not copied in l2\n",
    "l1[2][0]='m' #changing nested objects in l1 will make change in l2\n",
    "print(l1)\n",
    "print(l2) "
   ]
  },
  {
   "cell_type": "code",
   "execution_count": 23,
   "metadata": {},
   "outputs": [
    {
     "name": "stdout",
     "output_type": "stream",
     "text": [
      "[[1, 2, 3], ['a', 'b', 'c'], [4, 5, 6], [7, 8, 'e']]\n",
      "[[1, 2, 3], ['a', 'b', 'c'], [4, 5, 6]]\n"
     ]
    }
   ],
   "source": [
    "l3=[[1,2,3],['a','b','c'],[4,5,6]]\n",
    "l4=copy.deepcopy(l3)\n",
    "l3.append([7,8,'e'])\n",
    "print(l3)\n",
    "print(l4)  #note l4 is independent of l3"
   ]
  },
  {
   "cell_type": "code",
   "execution_count": null,
   "metadata": {},
   "outputs": [],
   "source": []
  }
 ],
 "metadata": {
  "kernelspec": {
   "display_name": "Python 3",
   "language": "python",
   "name": "python3"
  },
  "language_info": {
   "codemirror_mode": {
    "name": "ipython",
    "version": 3
   },
   "file_extension": ".py",
   "mimetype": "text/x-python",
   "name": "python",
   "nbconvert_exporter": "python",
   "pygments_lexer": "ipython3",
   "version": "3.8.5"
  }
 },
 "nbformat": 4,
 "nbformat_minor": 4
}
