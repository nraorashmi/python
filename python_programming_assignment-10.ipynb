{
 "cells": [
  {
   "cell_type": "markdown",
   "metadata": {},
   "source": [
    "1.\tWrite a Python program to find sum of elements in list?"
   ]
  },
  {
   "cell_type": "code",
   "execution_count": 2,
   "metadata": {},
   "outputs": [
    {
     "name": "stdout",
     "output_type": "stream",
     "text": [
      "sum of elements in list is  15\n"
     ]
    }
   ],
   "source": [
    "l=[1,2,3,4,5]\n",
    "sum=0\n",
    "for i in range(len(l)):\n",
    "    sum=sum+l[i]\n",
    "print(\"sum of elements in list is \",sum)    "
   ]
  },
  {
   "cell_type": "markdown",
   "metadata": {},
   "source": [
    "2.\tWrite a Python program to  Multiply all numbers in the list?"
   ]
  },
  {
   "cell_type": "code",
   "execution_count": 4,
   "metadata": {},
   "outputs": [
    {
     "name": "stdout",
     "output_type": "stream",
     "text": [
      "product of elements in list is  120\n"
     ]
    }
   ],
   "source": [
    "l=[1,2,3,4,5]\n",
    "prod=1\n",
    "for i in range(len(l)):\n",
    "    prod=prod*l[i]\n",
    "print(\"product of elements in list is \",prod)  "
   ]
  },
  {
   "cell_type": "markdown",
   "metadata": {},
   "source": [
    "3.\tWrite a Python program to find smallest number in a list?"
   ]
  },
  {
   "cell_type": "code",
   "execution_count": 13,
   "metadata": {},
   "outputs": [
    {
     "name": "stdout",
     "output_type": "stream",
     "text": [
      "smallest number in the list is  -45\n"
     ]
    }
   ],
   "source": [
    "l=[-2,-45,1,2,3,-4,4,5,-1,-3,-23,1000]\n",
    "min=l[0]\n",
    "for i in range(len(l)):\n",
    "    if l[i] >=min:\n",
    "        continue\n",
    "    else:\n",
    "        min=l[i]\n",
    "print(\"smallest number in the list is \",min)\n",
    "        "
   ]
  },
  {
   "cell_type": "code",
   "execution_count": 26,
   "metadata": {},
   "outputs": [
    {
     "name": "stdout",
     "output_type": "stream",
     "text": [
      "smallest number in the list is  -4000\n"
     ]
    }
   ],
   "source": [
    "def small_number(a,b):\n",
    "    if a<b:\n",
    "        return a\n",
    "    else:\n",
    "        return b\n",
    "l1=[2000,-2,-1,2,3,-4000,4,5,-1,-3,23,-1000]\n",
    "a=l1[0]\n",
    "for i in range(1,len(l1)):\n",
    "    b=l1[i]\n",
    "    min=small_number(a,b)\n",
    "    a=min\n",
    "print(\"smallest number in the list is \",min)"
   ]
  },
  {
   "cell_type": "markdown",
   "metadata": {},
   "source": [
    "4.\tWrite a Python program to find largest number in a list?"
   ]
  },
  {
   "cell_type": "code",
   "execution_count": 28,
   "metadata": {},
   "outputs": [
    {
     "name": "stdout",
     "output_type": "stream",
     "text": [
      "largest number in the list is  2000\n"
     ]
    }
   ],
   "source": [
    "l=[10,-45,1,2,2000,3,-4,4,5,-1,-3,-23,1000]\n",
    "max=l[0]\n",
    "for i in range(len(l)):\n",
    "    if l[i] <=max:\n",
    "        continue\n",
    "    else:\n",
    "        max=l[i]\n",
    "print(\"largest number in the list is \",max)"
   ]
  },
  {
   "cell_type": "markdown",
   "metadata": {},
   "source": [
    "5.\tWrite a Python program to find second largest number in a list?"
   ]
  },
  {
   "cell_type": "code",
   "execution_count": 1,
   "metadata": {},
   "outputs": [
    {
     "name": "stdout",
     "output_type": "stream",
     "text": [
      "50\n"
     ]
    }
   ],
   "source": [
    "l=[1,2,3,1000,4,-1,-2,-3,50]\n",
    "l.sort()\n",
    "print(l[-2])"
   ]
  },
  {
   "cell_type": "markdown",
   "metadata": {},
   "source": [
    "6.\tWrite a Python program to find N largest elements from a list?"
   ]
  },
  {
   "cell_type": "code",
   "execution_count": 3,
   "metadata": {},
   "outputs": [
    {
     "name": "stdout",
     "output_type": "stream",
     "text": [
      "1000\n",
      "500\n",
      "400\n"
     ]
    }
   ],
   "source": [
    "l=[1,2,3,1000,4,-1,-2,400,-3,50,500]\n",
    "l.sort()\n",
    "n=3\n",
    "i=1\n",
    "while i<=n:\n",
    "    print(l[-i])\n",
    "    i=i+1"
   ]
  },
  {
   "cell_type": "code",
   "execution_count": 5,
   "metadata": {},
   "outputs": [
    {
     "data": {
      "text/plain": [
       "[1000, 500, 400, 50, 4]"
      ]
     },
     "execution_count": 5,
     "metadata": {},
     "output_type": "execute_result"
    }
   ],
   "source": [
    "def find_n_larg_num(n,l):  #n is the number of elements, l is the list\n",
    "    i=1\n",
    "    l.sort()\n",
    "    m=[]\n",
    "    while i<=n:\n",
    "        m.append(l[-i])\n",
    "        i=i+1\n",
    "    return m    \n",
    "find_n_larg_num(5,[1,2,3,1000,4,-1,-2,400,-3,50,500])        "
   ]
  },
  {
   "cell_type": "markdown",
   "metadata": {},
   "source": [
    "7.\tWrite a Python program to print even numbers in a list?"
   ]
  },
  {
   "cell_type": "code",
   "execution_count": 9,
   "metadata": {},
   "outputs": [
    {
     "data": {
      "text/plain": [
       "[0, 2, 8, 4, 6, 10]"
      ]
     },
     "execution_count": 9,
     "metadata": {},
     "output_type": "execute_result"
    }
   ],
   "source": [
    "l=[0,1,2,3,5,8,25,4,6,10]\n",
    "[i for i in l if i%2==0]"
   ]
  },
  {
   "cell_type": "markdown",
   "metadata": {},
   "source": [
    "8.\tWrite a Python program to print odd numbers in a List?"
   ]
  },
  {
   "cell_type": "code",
   "execution_count": 7,
   "metadata": {},
   "outputs": [
    {
     "data": {
      "text/plain": [
       "[1, 3, 5, 25]"
      ]
     },
     "execution_count": 7,
     "metadata": {},
     "output_type": "execute_result"
    }
   ],
   "source": [
    "l=[0,1,2,3,5,8,25,4,6,10]\n",
    "[i for i in l if i%2!=0]"
   ]
  },
  {
   "cell_type": "markdown",
   "metadata": {},
   "source": [
    "9.\tWrite a Python program to Remove empty List from List?"
   ]
  },
  {
   "cell_type": "code",
   "execution_count": 41,
   "metadata": {},
   "outputs": [
    {
     "name": "stdout",
     "output_type": "stream",
     "text": [
      "[1, 2, 3.2, 'hi', [6, 7]]\n"
     ]
    }
   ],
   "source": [
    "l=[1,2,3.2,[],\"hi\",[6,7],[]]\n",
    "for i in range(len(l)-1,-1,-1):\n",
    "    if (type(l[i])==list and len(l[i])==0):\n",
    "        l.pop(i)\n",
    "print(l)                "
   ]
  },
  {
   "cell_type": "code",
   "execution_count": 43,
   "metadata": {},
   "outputs": [
    {
     "name": "stdout",
     "output_type": "stream",
     "text": [
      "[1, 2, 3.2, 'hi', [6, 7]]\n"
     ]
    }
   ],
   "source": [
    "def rem_empty_lst(l):\n",
    "    for i in l:\n",
    "        if (type(i)==list and len(i)==0):\n",
    "            l.remove(i)\n",
    "print(l)  \n",
    "rem_empty_lst([1,[],2,3.2,[],\"hi\",[6,7],[]])"
   ]
  },
  {
   "cell_type": "markdown",
   "metadata": {},
   "source": [
    "10.\tWrite a Python program to Cloning or Copying a list?"
   ]
  },
  {
   "cell_type": "code",
   "execution_count": 38,
   "metadata": {},
   "outputs": [
    {
     "name": "stdout",
     "output_type": "stream",
     "text": [
      "['a', 1, 8.4, 'hi', [5, 6, 7], (7, 8, 9), 10]\n"
     ]
    }
   ],
   "source": [
    "l=['a',1,8.4,\"hi\",[5,6,7],(7,8,9),10]\n",
    "l1=l[:]\n",
    "print(l1)"
   ]
  },
  {
   "cell_type": "markdown",
   "metadata": {},
   "source": [
    "11.\tWrite a Python program to Count occurrences of an element in a list?"
   ]
  },
  {
   "cell_type": "code",
   "execution_count": 69,
   "metadata": {},
   "outputs": [
    {
     "name": "stdout",
     "output_type": "stream",
     "text": [
      "{'a': 3, 1: 2, 3: 4, 'k': 2, 0: 2, 'l': 1}\n"
     ]
    }
   ],
   "source": [
    "n=['a',1,1,3,3,3,3,'k','a',0,0,'k','l','a']\n",
    "count=0\n",
    "m={}\n",
    "for i in n:\n",
    "    count=n.count(i)        \n",
    "    m[i]=count\n",
    "print(m)        "
   ]
  },
  {
   "cell_type": "code",
   "execution_count": null,
   "metadata": {},
   "outputs": [],
   "source": []
  }
 ],
 "metadata": {
  "kernelspec": {
   "display_name": "Python 3",
   "language": "python",
   "name": "python3"
  },
  "language_info": {
   "codemirror_mode": {
    "name": "ipython",
    "version": 3
   },
   "file_extension": ".py",
   "mimetype": "text/x-python",
   "name": "python",
   "nbconvert_exporter": "python",
   "pygments_lexer": "ipython3",
   "version": "3.8.5"
  }
 },
 "nbformat": 4,
 "nbformat_minor": 4
}
