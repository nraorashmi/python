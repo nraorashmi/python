{
 "cells": [
  {
   "cell_type": "markdown",
   "metadata": {},
   "source": [
    "1. What are the differences between operators and values in the following?\n",
    "* 'hello' -87.8 - / + 6 \n",
    "Ans: Operators are special symbols like + / * ,etc that designates some kind of operation or computation to be performed on \n",
    "    data values. Here -87.8, 6, 'hello' are values on which operations like + can be performed \n",
    "2. What is the difference between string and variable? spam 'spam' \n",
    "Ans: A variable is like a place holder that stores the data. String is a datatype, a sequence of character values. \n",
    "    say spam='spam' here spam is a variable and 'spam' is a string \n",
    "3. Describe three different data forms. \n",
    "Ans: Number- holds numerical values.\n",
    "    String -holds sequence of character values, numbers,etc \n",
    "    List – a collection of homogeneous or heterogeneous items separated by comma within []. \n",
    "    The items within list are mutable and iterable \n",
    "4. What makes up an expression? What are the functions of all expressions? \n",
    "Ans:Expressions are representation of values. \n",
    "    A sequence of operands, operators or variables makes up an expression. E.g X+y-4 . \n",
    "    All expressions evaluate down to a single value. \n",
    "5. In this chapter, assignment statements such as spam = 10 were added. \n",
    "What's the difference between a declaration and an expression? \n",
    "Ans: A declaration is explicit declaration of a variable or function with a specific name. e.g int a.\n",
    "    However the expression works even without declaration of variable Like 10+10 \n",
    "6. After running the following code, what does the variable bacon contain? bacon = 22 bacon + 1 \n",
    "Ans:23\n",
    "7. What should the values of the following two terms be? \n",
    "'spam' + 'spamspam' Ans: spamspamspam \n",
    "    'spam' * 3 Ans:spamspamspam\n",
    "8.Why is it that eggs is a true variable name but 100 is not? \n",
    "Ans: Variable name cant start with an integer\n",
    "9. Which of the following three functions may be used to convert a value to an integer, a floating-point number, or a string? \n",
    "Ans: Int(10.0) Float(100) Str(100)\n",
    "10.What is the error caused by this expression? What would you do about it? 'I have eaten ' + 99 + ' burritos.' \n",
    "Ans: Error: can only concatenate str (not \"int\") to str \n",
    "        Resolve this by typecasting int to string format like below 'I have eaten ' + str(99) + ' burritos.'"
   ]
  }
 ],
 "metadata": {
  "kernelspec": {
   "display_name": "Python 3",
   "language": "python",
   "name": "python3"
  },
  "language_info": {
   "codemirror_mode": {
    "name": "ipython",
    "version": 3
   },
   "file_extension": ".py",
   "mimetype": "text/x-python",
   "name": "python",
   "nbconvert_exporter": "python",
   "pygments_lexer": "ipython3",
   "version": "3.8.5"
  }
 },
 "nbformat": 4,
 "nbformat_minor": 4
}
