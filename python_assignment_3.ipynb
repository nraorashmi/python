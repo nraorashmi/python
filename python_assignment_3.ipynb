{
 "cells": [
  {
   "cell_type": "markdown",
   "metadata": {},
   "source": [
    "1. What are the benefits of including roles in the programmes?\n",
    "Ans:\n",
    "Benefits of including roles in the programmes are:\n",
    "1) Allows one to manage permissions to the folders at the role level\n",
    "2) Improved operational efficiency\n",
    "3) Reduced costs by controlling user access to certain processes and applications,there by \n",
    "cost-effectively use resources, such as network bandwidth, memory and storage.\n",
    "4)Decreased risk of breaches and data leakage by restricting access to sensitive information\n",
    "5)Giving administrators increased visibility\n",
    "6)Enhanced compliance"
   ]
  },
  {
   "cell_type": "markdown",
   "metadata": {},
   "source": [
    "2. When does the code in a function run: when it's specified or when it's called?\n",
    "Ans:When it is called    "
   ]
  },
  {
   "cell_type": "markdown",
   "metadata": {},
   "source": [
    "3. What statement causes a feature to be created? Note:question not clear"
   ]
  },
  {
   "cell_type": "code",
   "execution_count": null,
   "metadata": {},
   "outputs": [],
   "source": [
    "Def function_name():\n",
    "    .....\n",
    "    return xxx"
   ]
  },
  {
   "cell_type": "markdown",
   "metadata": {},
   "source": [
    "4. What is the distinction between a function and a call to a function?\n",
    "Ans:\n",
    "A function contains the definition, performs a defined task and returns if anything is to be returned.\n",
    "A call to a function is using this function to achieve that task and contains the actual input parameters"
   ]
  },
  {
   "cell_type": "markdown",
   "metadata": {},
   "source": [
    "5. In a Python application, how many global scopes are there? How many local scopes are there?\n",
    "Ans: In a Python application, there’s only one global scope per program execution.There will be as many different local scopes as function calls."
   ]
  },
  {
   "cell_type": "markdown",
   "metadata": {},
   "source": [
    "6. When a function call returns, what happens to variables in the local scope?\n",
    "Ans: The variables in the local scope become 'undefined' after the function call completes"
   ]
  },
  {
   "cell_type": "markdown",
   "metadata": {},
   "source": [
    "7. What is the concept of a return value? Is it possible to have a return value in an expression?\n",
    "Ans:The value that a function returns to the caller is known as the function’s return value. \n",
    "Yes,it is possible to have a return value in an expression."
   ]
  },
  {
   "cell_type": "markdown",
   "metadata": {},
   "source": [
    "8. What is the return value of a call to a function that does not have a return statement?\n",
    "Ans: None"
   ]
  },
  {
   "cell_type": "markdown",
   "metadata": {},
   "source": [
    "9. How do you make a function variable refer to the global variable?\n",
    "Ans:To access a global variable inside a function simply use the global variable,there is no need to use global keyword. \n",
    "However, if need to assign a new value to a global variable inside the function, then we can do that by declaring the variable as 'global' inside the function"
   ]
  },
  {
   "cell_type": "markdown",
   "metadata": {},
   "source": [
    "10. What data form does None belong to?\n",
    "Ans:NoneType"
   ]
  },
  {
   "cell_type": "markdown",
   "metadata": {},
   "source": [
    "11. What does the sentence import areallyourpetsnamederic do?\n",
    "Ans: import areallyourpetsnamederic just imports and runs the entire module 'areallyourpetsnamederic'"
   ]
  },
  {
   "cell_type": "markdown",
   "metadata": {},
   "source": [
    "12. If you had a bacon() feature in a spam module, what would you call it after importing spam?\n",
    "Ans:from spam import bacon"
   ]
  },
  {
   "cell_type": "markdown",
   "metadata": {},
   "source": [
    "13. What can you do to save a programme from crashing if it encounters an error?\n",
    "Ans:try to catch the error and handle it in except block of the code"
   ]
  },
  {
   "cell_type": "markdown",
   "metadata": {},
   "source": [
    "14. What is the purpose of the try clause? What is the purpose of the except clause?\n",
    "Ans: Try clause checks the code for errors. While the except clause handles the error occurred in the preceding try block"
   ]
  }
 ],
 "metadata": {
  "kernelspec": {
   "display_name": "Python 3",
   "language": "python",
   "name": "python3"
  },
  "language_info": {
   "codemirror_mode": {
    "name": "ipython",
    "version": 3
   },
   "file_extension": ".py",
   "mimetype": "text/x-python",
   "name": "python",
   "nbconvert_exporter": "python",
   "pygments_lexer": "ipython3",
   "version": "3.8.5"
  }
 },
 "nbformat": 4,
 "nbformat_minor": 4
}
