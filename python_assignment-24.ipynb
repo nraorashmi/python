{
 "cells": [
  {
   "cell_type": "markdown",
   "metadata": {},
   "source": [
    "1. What is the relationship between def statements and lambda expressions ?"
   ]
  },
  {
   "cell_type": "markdown",
   "metadata": {},
   "source": [
    "When a regular function is defined using the def keyword, we need to specify the function with a name and also an explicit return keyword to return the result.\n",
    "Lambda function is an anonymous function defined using the keyword lambda. Definition does not include a “return” statement, it always contains an expression that is returned. \n",
    "lambda is an expression, and def is a statement.\n",
    "lambda's body is a single expression, not a block of statements like in def.\n",
    "lambda is designed for coding simple functions, and def handles larger tasks.\n",
    "lambda function can be passed immediately (without variables)."
   ]
  },
  {
   "cell_type": "markdown",
   "metadata": {},
   "source": [
    "2. What is the benefit of lambda?"
   ]
  },
  {
   "cell_type": "markdown",
   "metadata": {},
   "source": [
    "The lambda can be used as a function shorthand that allows us to embed an anonymous function within the code. They help to write concise code where in no additional variables are added.It can also be used along with built-in functions like filter(), map() etc."
   ]
  },
  {
   "cell_type": "markdown",
   "metadata": {},
   "source": [
    "3. Compare and contrast map, filter, and reduce."
   ]
  },
  {
   "cell_type": "markdown",
   "metadata": {},
   "source": [
    "All three of these methods expect a function object as the first argument and iterable as the second argument.\n",
    "map() applies the function it receives as an argument to each element in a sequence and returns the resulting sequence. \n",
    "filter() takes a function called a predicate that returns “True” if an element passes the condition stated in the predicate, and “False” otherwise. The filter() function’s output consists of the elements of the original sequence that pass the predicate.\n",
    "reduce() works differently than map() and filter(). It does not return a new list based on the function and iterable we've \n",
    "passed. Instead, it returns a single value.\n",
    "Also, reduce() isn't a built-in function, and it can be found in the functools module."
   ]
  },
  {
   "cell_type": "markdown",
   "metadata": {},
   "source": [
    "4. What are function annotations, and how are they used?"
   ]
  },
  {
   "cell_type": "markdown",
   "metadata": {},
   "source": [
    "Function annotations are arbitrary python expressions that are associated with various part of functions. \n",
    "These expressions are evaluated at compile time and have no life in python’s runtime environment.\n",
    "Annotations can be used to collect information about the type of the parameters and the return type of the function to keep track of the type change occurring in the function. ‘mypy’ is one such library.\n",
    "String based annotations can be used by the libraries to provide better help messages at compile time regarding the functionalities of various methods, classes and modules."
   ]
  },
  {
   "cell_type": "markdown",
   "metadata": {},
   "source": [
    "5. What are recursive functions, and how are they used?"
   ]
  },
  {
   "cell_type": "markdown",
   "metadata": {},
   "source": [
    "A recursive function is a function defined in terms of itself via self-referential expressions.\n",
    "This means that the function will continue to call itself and repeat its behavior until some condition is met to return a result. \n",
    "All recursive functions share a common structure made up of two parts: base case and recursive case.\n",
    "The base case condition determines when the recursive function should stop or returns the final state.\n",
    "The recursive case threads the state through recursive call (i.e. passing the updated current state to each recursive call as arguments)\n"
   ]
  },
  {
   "cell_type": "markdown",
   "metadata": {},
   "source": [
    "6. What are some general design guidelines for coding functions?"
   ]
  },
  {
   "cell_type": "markdown",
   "metadata": {},
   "source": [
    "Length of functions should not be very large\n",
    "Code should handle error return values and exception handling conventions\n",
    "There must be a space after giving a comma between two function arguments.\n",
    "The name of the function must describe the reason of using the function clearly and briefly.\n",
    "Each nested block should be properly indented and spaced.\n",
    "Function names should be lowercase, with words separated by underscores as necessary to improve readability.\n",
    "Any args or input parameters should be placed within these parentheses\n",
    "The function first statement can be an optional statement- docstring or the documentation string of the function\n",
    "The code within every function starts with a colon (:) and should be indented (space)\n",
    "The statement return (expression) exits a function, optionally passing back a value to the caller. A return statement with no args is the same as return None.\n",
    "If a function argument's name clashes with a reserved keyword, it is generally better to append a single trailing underscore rather than use an abbreviation or spelling corruption. Thus class_ is better than clss. (Perhaps better is to avoid such clashes by using a synonym.)"
   ]
  },
  {
   "cell_type": "markdown",
   "metadata": {},
   "source": [
    "7. Name three or more ways that functions can communicate results to a caller."
   ]
  },
  {
   "cell_type": "markdown",
   "metadata": {},
   "source": [
    "Functions can communicate results to a caller either with the use of print() or return expression within the body of the function.\n",
    "The return statement can consist of a variable, an expression, or a constant which is returned to the end of the function execution.\n",
    "If none of the above is present with the return statement a None object is returned."
   ]
  },
  {
   "cell_type": "code",
   "execution_count": null,
   "metadata": {},
   "outputs": [],
   "source": []
  }
 ],
 "metadata": {
  "kernelspec": {
   "display_name": "Python 3",
   "language": "python",
   "name": "python3"
  },
  "language_info": {
   "codemirror_mode": {
    "name": "ipython",
    "version": 3
   },
   "file_extension": ".py",
   "mimetype": "text/x-python",
   "name": "python",
   "nbconvert_exporter": "python",
   "pygments_lexer": "ipython3",
   "version": "3.8.5"
  }
 },
 "nbformat": 4,
 "nbformat_minor": 4
}
