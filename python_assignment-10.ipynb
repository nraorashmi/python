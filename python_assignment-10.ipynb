{
 "cells": [
  {
   "cell_type": "markdown",
   "metadata": {},
   "source": [
    "1. How do you distinguish between shutil.copy() and shutil.copytree()?"
   ]
  },
  {
   "cell_type": "markdown",
   "metadata": {},
   "source": [
    "While shutil.copy() will copy a single file from source to destination, shutil.copytree() will copy an entire folder and every folder and file contained in it "
   ]
  },
  {
   "cell_type": "markdown",
   "metadata": {},
   "source": [
    "2. What is the name of the feature used to rename files?"
   ]
  },
  {
   "cell_type": "code",
   "execution_count": 16,
   "metadata": {},
   "outputs": [
    {
     "data": {
      "text/plain": [
       "'C:\\\\Users\\\\nraor\\\\Documents\\\\new_abc.txt'"
      ]
     },
     "execution_count": 16,
     "metadata": {},
     "output_type": "execute_result"
    }
   ],
   "source": [
    "import shutil\n",
    "shutil.move('C:\\\\Users\\\\nraor\\\\Documents\\\\abc.txt', 'C:\\\\Users\\\\nraor\\\\Documents\\\\new_abc.txt')\n",
    "#Ans: shutil.move() used to rename files"
   ]
  },
  {
   "cell_type": "markdown",
   "metadata": {},
   "source": [
    "3. How are the delete functions in the send2trash and shutil modules different?"
   ]
  },
  {
   "cell_type": "markdown",
   "metadata": {},
   "source": [
    "Python’s built-in shutil.rmtree() function irreversibly deletes files and folders, it can be dangerous to use. Using send2trash is much safer because it will send folders and files to your computer’s trash or recycle bin instead of permanently deleting them, so the files can be recovered"
   ]
  },
  {
   "cell_type": "markdown",
   "metadata": {},
   "source": [
    "4. ZipFile objects have a close() function that is similar to that of File objects. What ZipFile method is similar to the open() method of File objects?"
   ]
  },
  {
   "cell_type": "code",
   "execution_count": 17,
   "metadata": {},
   "outputs": [],
   "source": [
    "#open the ZipFile object in write mode by passing 'w' as the second argument and filename as first argument\n",
    "import zipfile\n",
    "newZip = zipfile.ZipFile('new.zip', 'w')\n"
   ]
  },
  {
   "cell_type": "markdown",
   "metadata": {},
   "source": [
    "5. Create a programme that searches a folder tree for files with a certain file extension (such as .pdf or .jpg). Copy these files to a new folder from wherever they are now."
   ]
  },
  {
   "cell_type": "code",
   "execution_count": 19,
   "metadata": {},
   "outputs": [
    {
     "name": "stdout",
     "output_type": "stream",
     "text": [
      "Looking in C:\\Users\\nraor\\Downloads for files with extensions of .jpg\n",
      "Copying C:\\Users\\nraor\\Downloads\\1.jpg to C:\\Users\\nraor\\Downloads\\New_folder\n",
      "Copying C:\\Users\\nraor\\Downloads\\2.jpg to C:\\Users\\nraor\\Downloads\\New_folder\n",
      "Copying C:\\Users\\nraor\\Downloads\\3.jpg to C:\\Users\\nraor\\Downloads\\New_folder\n",
      "Copying C:\\Users\\nraor\\Downloads\\4.jpg to C:\\Users\\nraor\\Downloads\\New_folder\n",
      "Copying C:\\Users\\nraor\\Downloads\\5.jpg to C:\\Users\\nraor\\Downloads\\New_folder\n",
      "Copying C:\\Users\\nraor\\Downloads\\Google Photos_files\\unnamed.jpg to C:\\Users\\nraor\\Downloads\\New_folder\n",
      "Copying C:\\Users\\nraor\\Downloads\\nnlwjndnnnndd_files\\photo(1).jpg to C:\\Users\\nraor\\Downloads\\New_folder\n",
      "Copying C:\\Users\\nraor\\Downloads\\nnlwjndnnnndd_files\\photo.jpg to C:\\Users\\nraor\\Downloads\\New_folder\n",
      "Copying C:\\Users\\nraor\\Downloads\\nnlwjndnnnndd_files\\unnamed.jpg to C:\\Users\\nraor\\Downloads\\New_folder\n",
      "Copying C:\\Users\\nraor\\Downloads\\sub\\IMG_20201212_133708.jpg to C:\\Users\\nraor\\Downloads\\New_folder\n",
      "Copying C:\\Users\\nraor\\Downloads\\sub\\IMG_20201212_134712.jpg to C:\\Users\\nraor\\Downloads\\New_folder\n",
      "Copying C:\\Users\\nraor\\Downloads\\sub\\IMG_20201212_140044.jpg to C:\\Users\\nraor\\Downloads\\New_folder\n",
      "Copying C:\\Users\\nraor\\Downloads\\sub\\IMG_20201212_141030.jpg to C:\\Users\\nraor\\Downloads\\New_folder\n",
      "Copying C:\\Users\\nraor\\Downloads\\sub\\IMG_20201215_123315.jpg to C:\\Users\\nraor\\Downloads\\New_folder\n",
      "Copying C:\\Users\\nraor\\Downloads\\sub\\IMG_20201219_140000.jpg to C:\\Users\\nraor\\Downloads\\New_folder\n"
     ]
    }
   ],
   "source": [
    "import os, shutil\n",
    "from pathlib import Path\n",
    "def search_tree(source, extensions, destination):\n",
    "    source = os.path.abspath(source)\n",
    "    destination = os.path.abspath(destination)\n",
    "    print('Looking in', source, 'for files with extensions of', ', '.join(extensions))\n",
    "    for foldername, subfolders, filenames in os.walk(source):\n",
    "        for filename in filenames:\n",
    "            name, extension = os.path.splitext(filename)\n",
    "            if extension in extensions:\n",
    "                fileAbsPath = foldername + os.path.sep + filename\n",
    "                p=Path(fileAbsPath)\n",
    "                if os.path.abspath(p.parent)!= os.path.abspath(destination): #to overcome samefile error\n",
    "                    print('Copying', fileAbsPath, 'to', destination)\n",
    "                    shutil.copy(fileAbsPath, destination)\n",
    "                else:\n",
    "                    pass\n",
    "extensions = ['.jpg']\n",
    "source = 'C:\\\\Users\\\\nraor\\\\Downloads'\n",
    "destination = 'C:\\\\Users\\\\nraor\\\\Downloads\\\\New_folder'\n",
    "search_tree(source, extensions, destination)"
   ]
  }
 ],
 "metadata": {
  "kernelspec": {
   "display_name": "Python 3",
   "language": "python",
   "name": "python3"
  },
  "language_info": {
   "codemirror_mode": {
    "name": "ipython",
    "version": 3
   },
   "file_extension": ".py",
   "mimetype": "text/x-python",
   "name": "python",
   "nbconvert_exporter": "python",
   "pygments_lexer": "ipython3",
   "version": "3.8.5"
  }
 },
 "nbformat": 4,
 "nbformat_minor": 4
}
