{
 "cells": [
  {
   "cell_type": "markdown",
   "metadata": {},
   "source": [
    "1.Write a Python program to Extract Unique values dictionary values?\n"
   ]
  },
  {
   "cell_type": "code",
   "execution_count": 12,
   "metadata": {},
   "outputs": [
    {
     "name": "stdout",
     "output_type": "stream",
     "text": [
      "{56784, 'arya', 'bangalore'}\n"
     ]
    }
   ],
   "source": [
    "s={\"name\":\"arya\",\"address\":\"bangalore\",\"city\":\"bangalore\",\"contact\":56784}\n",
    "l=set(i for i in dict.values(s))\n",
    "print(l) "
   ]
  },
  {
   "cell_type": "code",
   "execution_count": 18,
   "metadata": {},
   "outputs": [
    {
     "name": "stdout",
     "output_type": "stream",
     "text": [
      "{0, 1, 2, 3, 4, 5, 6, 7, 8, 9}\n"
     ]
    }
   ],
   "source": [
    "d={\"abc\":[1,2,3,4],\"def\":[3,4,5,6],\"ghi\":[1,2,5,6],\"jkl\":[7,8,9,0]}\n",
    "l= [j for i in dict.values(d) for j in i ]\n",
    "print(set(l))            "
   ]
  },
  {
   "cell_type": "markdown",
   "metadata": {},
   "source": [
    "2.Write a Python program to find the sum of all items in a dictionary?"
   ]
  },
  {
   "cell_type": "code",
   "execution_count": 19,
   "metadata": {},
   "outputs": [
    {
     "name": "stdout",
     "output_type": "stream",
     "text": [
      "172\n"
     ]
    }
   ],
   "source": [
    "d={\"apple\":50,\"banana\":12,\"grapes\":100,\"orange\":10}\n",
    "sum=0\n",
    "for i in d.values():\n",
    "    sum=sum+i\n",
    "print(sum)    "
   ]
  },
  {
   "cell_type": "markdown",
   "metadata": {},
   "source": [
    "3.Write a Python program to Merging two Dictionaries?\n"
   ]
  },
  {
   "cell_type": "code",
   "execution_count": 31,
   "metadata": {},
   "outputs": [
    {
     "name": "stdout",
     "output_type": "stream",
     "text": [
      "{'city': 'delhi', 'company': 'ineuron', 'contact': 56778, 'name': 'harish', 'age': 35, 'gender': 'male'}\n"
     ]
    }
   ],
   "source": [
    "dict1={\"name\":\"harish\",\"age\":35,\"gender\":\"male\",\"city\":\"delhi\"}\n",
    "dict2={\"city\":\"mysore\",\"company\":\"ineuron\",\"contact\":56778}\n",
    "dict2.update(dict1)\n",
    "print(dict2)"
   ]
  },
  {
   "cell_type": "markdown",
   "metadata": {},
   "source": [
    "4.Write a Python program to convert key-values list to flat dictionary?\n"
   ]
  },
  {
   "cell_type": "code",
   "execution_count": 44,
   "metadata": {},
   "outputs": [
    {
     "name": "stdout",
     "output_type": "stream",
     "text": [
      "flattened dictionary is {1: 'car', 2: 'doll', 3: 'chess', 4: 'ball'}\n"
     ]
    }
   ],
   "source": [
    "d1={\"product_id\":[1,2,3,4]}\n",
    "d2={\"product_name\":[\"car\",\"doll\",\"chess\",\"ball\"]}\n",
    "d3=dict(zip(d1[\"product_id\"],d2[\"product_name\"]))\n",
    "print(\"flattened dictionary is\", d3)"
   ]
  },
  {
   "cell_type": "markdown",
   "metadata": {},
   "source": [
    "5.Write a Python program to insertion at the beginning in OrderedDict?"
   ]
  },
  {
   "cell_type": "code",
   "execution_count": 42,
   "metadata": {},
   "outputs": [
    {
     "data": {
      "text/plain": [
       "OrderedDict([(5, 'dress'), (1, 'car'), (2, 'doll'), (3, 'chess'), (4, 'ball')])"
      ]
     },
     "execution_count": 42,
     "metadata": {},
     "output_type": "execute_result"
    }
   ],
   "source": [
    "from collections import OrderedDict\n",
    "d1=OrderedDict([(1, 'car'), (2, 'doll'), (3, 'chess'), (4, 'ball')])\n",
    "dins=OrderedDict([(5,'dress')])\n",
    "d1.update(dins)\n",
    "d1.move_to_end(5, last=False)\n",
    "d1"
   ]
  },
  {
   "cell_type": "markdown",
   "metadata": {},
   "source": [
    "6.Write a Python program to check order of character in string using OrderedDict()?"
   ]
  },
  {
   "cell_type": "code",
   "execution_count": 12,
   "metadata": {},
   "outputs": [
    {
     "name": "stdout",
     "output_type": "stream",
     "text": [
      "false\n"
     ]
    }
   ],
   "source": [
    "from collections import OrderedDict\n",
    "def checkOrder(input, pattern): \n",
    "    dict = OrderedDict.fromkeys(input) \n",
    "    ptrlen = 0\n",
    "    for key,value in dict.items(): \n",
    "        if (key == pattern[ptrlen]): \n",
    "            ptrlen = ptrlen + 1\n",
    "        if (ptrlen == (len(pattern))): \n",
    "            return 'true'\n",
    "    return 'false'\n",
    "print (checkOrder(\"key sequences\",\"ce\")) "
   ]
  },
  {
   "cell_type": "markdown",
   "metadata": {},
   "source": [
    "7.Write a Python program to sort Python Dictionaries by Key or Value?"
   ]
  },
  {
   "cell_type": "code",
   "execution_count": 42,
   "metadata": {},
   "outputs": [
    {
     "name": "stdout",
     "output_type": "stream",
     "text": [
      "output of sorting python dictionary by key is \n",
      "{'i': 'tabla', 'm': 'guitar', 's': 'flute'}\n",
      "output of sorting python dictionary by value is \n",
      "{'s': 'flute', 'm': 'guitar', 'i': 'tabla'}\n"
     ]
    }
   ],
   "source": [
    "d={\"s\":\"flute\",\"m\":\"guitar\",\"i\":\"tabla\"}\n",
    "#d={10:\"brook10\",8:\"ace\",15:\"book5\"}\n",
    "sorted_d={}\n",
    "sorted_d2={}\n",
    "print(\"output of sorting python dictionary by key is \")\n",
    "for i in sorted(d.keys()):\n",
    "    sorted_d[i]=d[i]\n",
    "print(sorted_d)\n",
    "print(\"output of sorting python dictionary by value is \")\n",
    "sorted_keys= sorted(d, key=d.get)\n",
    "for j in sorted_keys:\n",
    "    sorted_d2[j]=d[j]\n",
    "print(sorted_d2)"
   ]
  },
  {
   "cell_type": "code",
   "execution_count": null,
   "metadata": {},
   "outputs": [],
   "source": []
  }
 ],
 "metadata": {
  "kernelspec": {
   "display_name": "Python 3",
   "language": "python",
   "name": "python3"
  }
 },
 "nbformat": 4,
 "nbformat_minor": 4
}
