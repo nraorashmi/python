{
 "cells": [
  {
   "cell_type": "markdown",
   "metadata": {},
   "source": [
    "1.\tWrite a Python program to check if the given number is a Disarium Number?"
   ]
  },
  {
   "cell_type": "code",
   "execution_count": 37,
   "metadata": {},
   "outputs": [
    {
     "name": "stdout",
     "output_type": "stream",
     "text": [
      "enter an integer 135\n",
      "number 135 is a Disarium \n"
     ]
    }
   ],
   "source": [
    "#A number is called Disarium if sum of its digits powered with their respective positions is equal to the number itself.eg 135,89\n",
    "n=input(\"enter an integer \")\n",
    "sum=0\n",
    "for i in range(len(n)):\n",
    "    sum=sum+ pow(int(n[i]),i+1)       \n",
    "if sum==int(n):\n",
    "    print(\"number\", n, \"is a Disarium \")\n",
    "else:\n",
    "    print(\"number\", n, \"is not a Disarium \")"
   ]
  },
  {
   "cell_type": "markdown",
   "metadata": {},
   "source": [
    "2.\tWrite a Python program to print all disarium numbers between 1 to 100?"
   ]
  },
  {
   "cell_type": "code",
   "execution_count": 8,
   "metadata": {},
   "outputs": [
    {
     "name": "stdout",
     "output_type": "stream",
     "text": [
      "disarium numbers between 1 to 100 are \n",
      "1\n",
      "2\n",
      "3\n",
      "4\n",
      "5\n",
      "6\n",
      "7\n",
      "8\n",
      "9\n",
      "89\n"
     ]
    }
   ],
   "source": [
    "def disarium(n):\n",
    "    n=str(n)\n",
    "    sum=0\n",
    "    for i in range(len(n)):\n",
    "        sum=sum+ pow(int(n[i]),i+1)   \n",
    "    if sum==int(n):\n",
    "        return n\n",
    "    \n",
    "print(\"disarium numbers between 1 to 100 are \")    \n",
    "for i in range(1,100):\n",
    "    value=disarium(i)\n",
    "    if value is None:\n",
    "        pass\n",
    "    else:\n",
    "        print(value)"
   ]
  },
  {
   "cell_type": "markdown",
   "metadata": {},
   "source": [
    "3.\tWrite a Python program to check if the given number is Happy Number?"
   ]
  },
  {
   "cell_type": "code",
   "execution_count": 38,
   "metadata": {},
   "outputs": [
    {
     "name": "stdout",
     "output_type": "stream",
     "text": [
      "number 44 is a happy number\n"
     ]
    }
   ],
   "source": [
    "\"\"\"A number is called happy if it leads to 1 after a sequence of steps wherein each step number is replaced by the sum of \n",
    "squares of its digit that is if we start with Happy Number and keep replacing it with digits square sum, we reach 1.e.g 13, 19\"\"\"\n",
    "def ifhappy(n):\n",
    "    m=n\n",
    "    s=set()\n",
    "    while int(n)>=1 :\n",
    "        n=str(n)\n",
    "        sum=0\n",
    "        for i in range(len(n)):\n",
    "            sum=sum+pow(int(n[i]),2)  \n",
    "        if sum==1:\n",
    "            print(\"number\",m, \"is a happy number\")\n",
    "            break\n",
    "        elif sum in s:\n",
    "            print(\"number\",m, \"is not a happy number\")\n",
    "            break\n",
    "        n=sum  \n",
    "        s.add(sum)\n",
    "ifhappy(44) "
   ]
  },
  {
   "cell_type": "markdown",
   "metadata": {},
   "source": [
    "4.\tWrite a Python program to print all happy numbers between 1 and 100?"
   ]
  },
  {
   "cell_type": "code",
   "execution_count": 19,
   "metadata": {},
   "outputs": [
    {
     "name": "stdout",
     "output_type": "stream",
     "text": [
      "happy numbers between 1 and 100 are :\n",
      "1 7 10 13 19 23 28 31 32 44 49 68 70 79 82 86 91 94 97 "
     ]
    }
   ],
   "source": [
    "def ifhappy(n):\n",
    "    m=n\n",
    "    s=set()\n",
    "    while int(n)>=1 :\n",
    "        n=str(n)\n",
    "        sum=0\n",
    "        for i in range(len(n)):\n",
    "            sum=sum+pow(int(n[i]),2)  \n",
    "        if sum==1:\n",
    "            return m\n",
    "            break\n",
    "        elif sum in s:\n",
    "            break\n",
    "        n=sum  \n",
    "        s.add(sum)\n",
    "print(\"happy numbers between 1 and 100 are :\")     \n",
    "for i in range(1,100):\n",
    "    value=ifhappy(i)\n",
    "    if value is not None:\n",
    "        print(value,end=\" \")\n",
    "    "
   ]
  },
  {
   "cell_type": "markdown",
   "metadata": {},
   "source": [
    "5.\tWrite a Python program to determine whether the given number is a Harshad Number?"
   ]
  },
  {
   "cell_type": "code",
   "execution_count": 29,
   "metadata": {},
   "outputs": [
    {
     "name": "stdout",
     "output_type": "stream",
     "text": [
      "number 6804 is a harshad number\n"
     ]
    }
   ],
   "source": [
    "#Harshad Number or Niven number is a positive integer which is divisible by the sum of its digits\n",
    "def harshad_number(n):\n",
    "    m=n\n",
    "    n=str(n)\n",
    "    sum=0\n",
    "    for i in range(len(n)):\n",
    "        sum=sum+int(n[i])\n",
    "    if m%sum==0:\n",
    "        print(\"number\",m,\"is a harshad number\")\n",
    "    else:\n",
    "        print(\"number\",m,\"is not a harshad number\")\n",
    "    \n",
    "harshad_number(6804)    "
   ]
  },
  {
   "cell_type": "markdown",
   "metadata": {},
   "source": [
    "6.\tWrite a Python program to print all pronic numbers between 1 and 100?"
   ]
  },
  {
   "cell_type": "code",
   "execution_count": 36,
   "metadata": {},
   "outputs": [
    {
     "name": "stdout",
     "output_type": "stream",
     "text": [
      "Pronic numbers between 1 and 100 are :\n",
      "0 2 6 12 20 30 42 56 72 90 "
     ]
    }
   ],
   "source": [
    "#A pronic number is a number which is the product of two consecutive integers\n",
    "def pronic_number(n):\n",
    "    for i in range(0,n+1):\n",
    "        if i*(i+1)==n:\n",
    "            return n\n",
    "            break\n",
    "print(\"Pronic numbers between 1 and 100 are :\")  \n",
    "for i in range(0,100):\n",
    "    value=pronic_number(i)\n",
    "    if value is not None:\n",
    "        print(value,end=\" \")"
   ]
  },
  {
   "cell_type": "code",
   "execution_count": null,
   "metadata": {},
   "outputs": [],
   "source": []
  }
 ],
 "metadata": {
  "kernelspec": {
   "display_name": "Python 3",
   "language": "python",
   "name": "python3"
  },
  "language_info": {
   "codemirror_mode": {
    "name": "ipython",
    "version": 3
   },
   "file_extension": ".py",
   "mimetype": "text/x-python",
   "name": "python",
   "nbconvert_exporter": "python",
   "pygments_lexer": "ipython3",
   "version": "3.8.5"
  }
 },
 "nbformat": 4,
 "nbformat_minor": 4
}
