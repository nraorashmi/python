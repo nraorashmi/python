{
 "cells": [
  {
   "cell_type": "markdown",
   "metadata": {},
   "source": [
    "Question 1:\n",
    "\n",
    "Define a class with a generator which can iterate the numbers, which are divisible by 7, between a given range 0 and n.\n"
   ]
  },
  {
   "cell_type": "code",
   "execution_count": 105,
   "metadata": {},
   "outputs": [
    {
     "name": "stdout",
     "output_type": "stream",
     "text": [
      "0\n",
      "7\n",
      "14\n",
      "21\n",
      "28\n"
     ]
    }
   ],
   "source": [
    "class gen:\n",
    "    def __init__(self,n):\n",
    "        self.n=n\n",
    "    def genf(self):\n",
    "        for i in range(0,self.n):\n",
    "            if i%7==0:\n",
    "                yield i\n",
    "obj=gen(30)            \n",
    "v=iter(obj.genf())\n",
    "for i in v:\n",
    "    print(i)\n"
   ]
  },
  {
   "cell_type": "markdown",
   "metadata": {},
   "source": [
    "Question 2:\n",
    "Write a program to compute the frequency of the words from the input. The output should output after sorting the key alphanumerically. \n",
    "\n",
    "Suppose the following input is supplied to the program:\n",
    "\n",
    "New to Python or choosing between Python 2 and Python 3? Read Python 2 or Python 3.\n",
    "\n",
    "Then, the output should be:\n",
    "\n",
    "2:2\n",
    "\n",
    "3.:1\n",
    "\n",
    "3?:1\n",
    "\n",
    "New:1\n",
    "\n",
    "Python:5\n",
    "\n",
    "Read:1\n",
    "\n",
    "and:1\n",
    "\n",
    "between:1\n",
    "\n",
    "choosing:1\n",
    "\n",
    "or:2\n",
    "\n",
    "to:1\n",
    "\n"
   ]
  },
  {
   "cell_type": "code",
   "execution_count": 117,
   "metadata": {},
   "outputs": [
    {
     "name": "stdout",
     "output_type": "stream",
     "text": [
      "{'2': 2, '3.': 1, '3?': 1, 'New': 1, 'Python': 5, 'Read': 1, 'and': 1, 'between': 1, 'choosing': 1, 'or': 2, 'to': 1}\n"
     ]
    }
   ],
   "source": [
    "def compute_freq(s):\n",
    "    p=[]\n",
    "    d={}\n",
    "    for i in s:\n",
    "        p= list(sorted(s.split()))       \n",
    "    for i in p:        \n",
    "        if i not in d.keys():\n",
    "            count=0 \n",
    "            count=count+1\n",
    "            d[i]=count         \n",
    "        else:\n",
    "            count=count+1 \n",
    "            d[i]=count\n",
    "    print(d)   \n",
    "compute_freq('New to Python or choosing between Python 2 and Python 3? Read Python 2 or Python 3.')    "
   ]
  },
  {
   "cell_type": "markdown",
   "metadata": {},
   "source": [
    "Question 3:\n",
    "\n",
    "Define a class Person and its two child classes: Male and Female. All classes have a method \"getGender\" which can print \"Male\" for Male class and \"Female\" for Female class.\n"
   ]
  },
  {
   "cell_type": "code",
   "execution_count": 118,
   "metadata": {},
   "outputs": [
    {
     "name": "stdout",
     "output_type": "stream",
     "text": [
      "Male Male Female\n"
     ]
    }
   ],
   "source": [
    "class Person:\n",
    "    def __init__(self,gender):\n",
    "        self.gender=gender\n",
    "    def getGender(self):\n",
    "        return self.gender\n",
    "class Male(Person):\n",
    "    def getGender(self):\n",
    "        return self.gender\n",
    "class Female(Person): \n",
    "    def getGender(self):\n",
    "        return self.gender\n",
    "obj=Person('Male')    \n",
    "obj1=Male('Male')\n",
    "obj2=Female('Female')\n",
    "print(obj.getGender(),obj1.getGender(),obj2.getGender())"
   ]
  },
  {
   "cell_type": "markdown",
   "metadata": {},
   "source": [
    "Question 4:\n",
    "Please write a program to generate all sentences where subject is in [\"I\", \"You\"] and verb is in [\"Play\", \"Love\"] and the object is in [\"Hockey\",\"Football\"].\n"
   ]
  },
  {
   "cell_type": "code",
   "execution_count": 119,
   "metadata": {},
   "outputs": [
    {
     "name": "stdout",
     "output_type": "stream",
     "text": [
      "I Play Hockey\n",
      "I Play Football\n",
      "I Love Hockey\n",
      "I Love Football\n",
      "You Play Hockey\n",
      "You Play Football\n",
      "You Love Hockey\n",
      "You Love Football\n"
     ]
    }
   ],
   "source": [
    "def gen_sentence():\n",
    "    subject=[\"I\", \"You\"] \n",
    "    verb=[\"Play\", \"Love\"]\n",
    "    obj=[\"Hockey\",\"Football\"]\n",
    "    for i in subject:\n",
    "        for j in verb:\n",
    "            for k in obj:\n",
    "                s=i+\" \"+j+\" \"+k\n",
    "                print(s)\n",
    "gen_sentence()                "
   ]
  },
  {
   "cell_type": "markdown",
   "metadata": {},
   "source": [
    "Question 5:\n",
    "Please write a program to compress and decompress the string \"hello world!hello world!hello world!hello world!\".\n"
   ]
  },
  {
   "cell_type": "code",
   "execution_count": 64,
   "metadata": {},
   "outputs": [
    {
     "name": "stdout",
     "output_type": "stream",
     "text": [
      "compressed form is  b'x\\x9c\\xcbH\\xcd\\xc9\\xc9W(\\xcf/\\xcaIQ\\xcc \\x82\\r\\x00\\xbd[\\x11\\xf5'\n",
      "decompressed form is  b'hello world!hello world!hello world!hello world!'\n"
     ]
    }
   ],
   "source": [
    "import zlib\n",
    "def comp_decom(s):\n",
    "    z=zlib.compress(s.encode())\n",
    "    print(\"compressed form is \", z)\n",
    "    uz=zlib.decompress(z)\n",
    "    print(\"decompressed form is \",uz )\n",
    "comp_decom(\"hello world!hello world!hello world!hello world!\")    "
   ]
  },
  {
   "cell_type": "code",
   "execution_count": 70,
   "metadata": {},
   "outputs": [
    {
     "name": "stdout",
     "output_type": "stream",
     "text": [
      "compressed form is  b'\\x1f\\x8b\\x08\\x00\\xd6\\xba}`\\x02\\xff\\xcbH\\xcd\\xc9\\xc9W(\\xcf/\\xcaIQ\\xcc \\x82\\r\\x00\\xd3\\xe6\\xcf\\xae0\\x00\\x00\\x00'\n",
      "decompressed form is  b'hello world!hello world!hello world!hello world!'\n"
     ]
    }
   ],
   "source": [
    "import gzip\n",
    "def comp_decom(s):\n",
    "    z=gzip.compress(s.encode())\n",
    "    print(\"compressed form is \", z)\n",
    "    uz=gzip.decompress(z)\n",
    "    print(\"decompressed form is \",uz )\n",
    "comp_decom(\"hello world!hello world!hello world!hello world!\")    "
   ]
  },
  {
   "cell_type": "markdown",
   "metadata": {},
   "source": [
    "Question 6:\n",
    "Please write a binary search function which searches an item in a sorted list. The function should return the index of element to be searched in the list.\n"
   ]
  },
  {
   "cell_type": "code",
   "execution_count": 1,
   "metadata": {},
   "outputs": [
    {
     "name": "stdout",
     "output_type": "stream",
     "text": [
      "[1, 5, 6, 7, 15, 34, 78, 89]\n"
     ]
    },
    {
     "data": {
      "text/plain": [
       "5"
      ]
     },
     "execution_count": 1,
     "metadata": {},
     "output_type": "execute_result"
    }
   ],
   "source": [
    "def bin_srch(s,l):\n",
    "    l=sorted(l) \n",
    "    print(l)\n",
    "    if s not in l:\n",
    "        print( \"search string not present in list\")\n",
    "    else  :  \n",
    "        first=0\n",
    "        last=len(l)-1\n",
    "        mid=(first+last)//2\n",
    "        while True:\n",
    "            if s>l[mid]:\n",
    "                first=mid\n",
    "                last=len(l)-1\n",
    "                mid=(first+last)//2\n",
    "                continue\n",
    "            elif s<l[mid]:\n",
    "                first=0\n",
    "                last=mid\n",
    "                mid=(first+last)//2\n",
    "                continue\n",
    "            elif s==l[mid]:\n",
    "                return mid  \n",
    "bin_srch(34,[1,15,34,89,78,5,6,7])"
   ]
  },
  {
   "cell_type": "code",
   "execution_count": 8,
   "metadata": {},
   "outputs": [
    {
     "name": "stdout",
     "output_type": "stream",
     "text": [
      "[1, 5, 6, 7, 15, 34, 78, 89]\n"
     ]
    },
    {
     "data": {
      "text/plain": [
       "5"
      ]
     },
     "execution_count": 8,
     "metadata": {},
     "output_type": "execute_result"
    }
   ],
   "source": [
    "def bin_srch(s,l,first=0,last=0): #using recursive\n",
    "    l=sorted(l) \n",
    "    if last==0:\n",
    "        last=len(l)-1\n",
    "    if s not in l:\n",
    "        print( \"search string\",s,\"not present in list\",l)\n",
    "    else  :  \n",
    "        mid=(first+last)//2\n",
    "        if s==l[mid]:\n",
    "            print(l)\n",
    "            return mid\n",
    "        elif s<l[mid]:\n",
    "            return bin_srch(s,l,0,mid-1)\n",
    "        else:\n",
    "            return bin_srch(s,l,mid+1,last)\n",
    "bin_srch(34,[1,15,34,89,78,5,6,7])"
   ]
  },
  {
   "cell_type": "code",
   "execution_count": null,
   "metadata": {},
   "outputs": [],
   "source": []
  }
 ],
 "metadata": {
  "kernelspec": {
   "display_name": "Python 3",
   "language": "python",
   "name": "python3"
  },
  "language_info": {
   "codemirror_mode": {
    "name": "ipython",
    "version": 3
   },
   "file_extension": ".py",
   "mimetype": "text/x-python",
   "name": "python",
   "nbconvert_exporter": "python",
   "pygments_lexer": "ipython3",
   "version": "3.8.5"
  }
 },
 "nbformat": 4,
 "nbformat_minor": 4
}
