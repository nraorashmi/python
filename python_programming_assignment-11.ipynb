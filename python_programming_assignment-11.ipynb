{
 "cells": [
  {
   "cell_type": "markdown",
   "metadata": {},
   "source": [
    "1.\tWrite a Python program to find words which are greater than given length k?"
   ]
  },
  {
   "cell_type": "code",
   "execution_count": 47,
   "metadata": {},
   "outputs": [
    {
     "data": {
      "text/plain": [
       "[\"India's\", 'economy', 'faster', 'fiscal', 'previously', 'thought']"
      ]
     },
     "execution_count": 47,
     "metadata": {},
     "output_type": "execute_result"
    }
   ],
   "source": [
    "def find_words(s, k):\n",
    "    s=s.split()\n",
    "    news=[]\n",
    "    for i in s:\n",
    "        if len(i)>k:\n",
    "            news.append(i)\n",
    "    return news \n",
    "find_words(\"India's economy will grow at a faster pace this fiscal year than previously thought\",4)\n",
    "        "
   ]
  },
  {
   "cell_type": "markdown",
   "metadata": {},
   "source": [
    "2.\tWrite a Python program for removing i-th character from a string?"
   ]
  },
  {
   "cell_type": "code",
   "execution_count": 50,
   "metadata": {},
   "outputs": [
    {
     "data": {
      "text/plain": [
       "'suiability'"
      ]
     },
     "execution_count": 50,
     "metadata": {},
     "output_type": "execute_result"
    }
   ],
   "source": [
    "def rem_ch(s,i):\n",
    "    newstr=s[:i-1]+s[i:]\n",
    "    return newstr\n",
    "rem_ch('suitability',4)            \n",
    "        "
   ]
  },
  {
   "cell_type": "code",
   "execution_count": 48,
   "metadata": {},
   "outputs": [
    {
     "name": "stdout",
     "output_type": "stream",
     "text": [
      "hea\n"
     ]
    }
   ],
   "source": [
    "def rem_ch1(s,i):\n",
    "    newstr=''\n",
    "    for j in range(len(s)):\n",
    "        if (j+1)==i:\n",
    "            pass\n",
    "        else:\n",
    "            newstr=newstr+s[j]\n",
    "    print(newstr)\n",
    "rem_ch1('hear',4)            \n",
    "        "
   ]
  },
  {
   "cell_type": "markdown",
   "metadata": {},
   "source": [
    "3.\tWrite a Python program to split and join a string?"
   ]
  },
  {
   "cell_type": "code",
   "execution_count": 50,
   "metadata": {},
   "outputs": [
    {
     "name": "stdout",
     "output_type": "stream",
     "text": [
      "enter a string bank%account%number\n",
      "string before split is  bank%account%number\n",
      "string after split is  ['bank', 'account', 'number']\n",
      "string after join is\n"
     ]
    },
    {
     "data": {
      "text/plain": [
       "'bank_account_number'"
      ]
     },
     "execution_count": 50,
     "metadata": {},
     "output_type": "execute_result"
    }
   ],
   "source": [
    "def split_join(s):\n",
    "    print(\"string before split is \", s)\n",
    "    s=s.split('%')\n",
    "    print(\"string after split is \", s)\n",
    "    newstr=''\n",
    "    for i in s:\n",
    "        newstr= newstr+\"_\"+\"\".join(i)\n",
    "    print('string after join is',) \n",
    "    return (newstr[1:])\n",
    "    \n",
    "split_join(input('enter a string ')  ) "
   ]
  },
  {
   "cell_type": "markdown",
   "metadata": {},
   "source": [
    "4.\tWrite a Python program to check if a given string is binary string or not?"
   ]
  },
  {
   "cell_type": "code",
   "execution_count": 51,
   "metadata": {},
   "outputs": [
    {
     "name": "stdout",
     "output_type": "stream",
     "text": [
      "given string Python101 is not a binary string\n"
     ]
    }
   ],
   "source": [
    "def bin_string(s):\n",
    "    b='01'\n",
    "    count=0\n",
    "    for ch in s:\n",
    "        if ch not in b:\n",
    "            count=count+1\n",
    "            break\n",
    "    if count>0:\n",
    "        print('given string', s,'is not a binary string')\n",
    "    else:\n",
    "        print('given string', s, 'is binary')\n",
    "bin_string('Python101')        "
   ]
  },
  {
   "cell_type": "markdown",
   "metadata": {},
   "source": [
    "5.\tWrite a Python program to find uncommon words from two Strings?"
   ]
  },
  {
   "cell_type": "code",
   "execution_count": 53,
   "metadata": {},
   "outputs": [
    {
     "data": {
      "text/plain": [
       "['a', 'test', 'program', 'testing']"
      ]
     },
     "execution_count": 53,
     "metadata": {},
     "output_type": "execute_result"
    }
   ],
   "source": [
    "def uncommon_words(s1,s2):\n",
    "    s1=set(s1.split())\n",
    "    s2=set(s2.split())\n",
    "    #print(s1)\n",
    "    #print(s2)\n",
    "    u=[]\n",
    "    for i in s1:\n",
    "        if i not in s2:    \n",
    "            u.append(i) \n",
    "    for i in s2:\n",
    "        if i not in s1 and i not in u:\n",
    "            u.append(i)                       \n",
    "    return u\n",
    "uncommon_words(\"This is a test\",\"This is testing program\")"
   ]
  },
  {
   "cell_type": "markdown",
   "metadata": {},
   "source": [
    "6.\tWrite a Python program to find all duplicate characters in string?"
   ]
  },
  {
   "cell_type": "code",
   "execution_count": 2,
   "metadata": {},
   "outputs": [
    {
     "data": {
      "text/plain": [
       "['s', '0', 'h', 'b', 'd']"
      ]
     },
     "execution_count": 2,
     "metadata": {},
     "output_type": "execute_result"
    }
   ],
   "source": [
    "def find_dup_ch(s):\n",
    "    s1=set(s)\n",
    "    dup=[]\n",
    "    for i in s1:\n",
    "        count=0\n",
    "        for j in s :\n",
    "            if j==i:\n",
    "                count=count+1\n",
    "        if count>1:\n",
    "            dup.append(i)\n",
    "    return dup\n",
    "    \n",
    "find_dup_ch('sdhbhdsbvhd1a200')    \n",
    "    "
   ]
  },
  {
   "cell_type": "code",
   "execution_count": 29,
   "metadata": {},
   "outputs": [
    {
     "data": {
      "text/plain": [
       "{'s': 2, 'd': 3, 'h': 3, 'b': 2}"
      ]
     },
     "execution_count": 29,
     "metadata": {},
     "output_type": "execute_result"
    }
   ],
   "source": [
    "def find_dup_ch(s): #to find duplicate char in string along with their count\n",
    "    dup={}\n",
    "    dup2={}\n",
    "    count=1\n",
    "    for i in range(len(s)):\n",
    "        if s[i] not in dup.keys():\n",
    "            dup[s[i]]=1\n",
    "        else:\n",
    "            if s[i] in dup.keys():\n",
    "                #print(dup[s[i]])\n",
    "                dup[s[i]]=dup[s[i]]+1    \n",
    "    #print(dup)\n",
    "    for key,values in dup.items() :\n",
    "        if values>1:\n",
    "            dup2[key]=values\n",
    "    return dup2        \n",
    "    \n",
    "find_dup_ch('sdhbhdsbvhd1a2') "
   ]
  },
  {
   "cell_type": "markdown",
   "metadata": {},
   "source": [
    "7.\tWrite a Python Program to check if a string contains any special character?"
   ]
  },
  {
   "cell_type": "code",
   "execution_count": 46,
   "metadata": {},
   "outputs": [
    {
     "name": "stdout",
     "output_type": "stream",
     "text": [
      "string contains special character &\n"
     ]
    }
   ],
   "source": [
    "import string\n",
    "spl_ch=string.punctuation\n",
    "def find_spl_char(s):\n",
    "    s=str(s)\n",
    "    for i in s:\n",
    "        if i in spl_ch:\n",
    "            print(\"string contains special character\", i)\n",
    "            break   \n",
    "    else:\n",
    "        print(\"string {} doesnot contain special character\".format(s) )\n",
    "    \n",
    "find_spl_char('jgj&fg11')    "
   ]
  }
 ],
 "metadata": {
  "kernelspec": {
   "display_name": "Python 3",
   "language": "python",
   "name": "python3"
  },
  "language_info": {
   "codemirror_mode": {
    "name": "ipython",
    "version": 3
   },
   "file_extension": ".py",
   "mimetype": "text/x-python",
   "name": "python",
   "nbconvert_exporter": "python",
   "pygments_lexer": "ipython3",
   "version": "3.8.5"
  }
 },
 "nbformat": 4,
 "nbformat_minor": 4
}
