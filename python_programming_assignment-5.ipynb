{
 "cells": [
  {
   "cell_type": "markdown",
   "metadata": {},
   "source": [
    "1.\tWrite a Python Program to Find LCM?"
   ]
  },
  {
   "cell_type": "code",
   "execution_count": 1,
   "metadata": {},
   "outputs": [
    {
     "data": {
      "text/plain": [
       "12"
      ]
     },
     "execution_count": 1,
     "metadata": {},
     "output_type": "execute_result"
    }
   ],
   "source": [
    "#The least common multiple (L.C.M.) of two numbers is the smallest positive integer that is perfectly divisible by the two given numbers.\n",
    "\n",
    "def find_lcm(x,y):\n",
    "    greater=0\n",
    "    if y>x:\n",
    "        greater=y\n",
    "    else:\n",
    "        greater=x\n",
    "    while(True):\n",
    "        if (greater%x==0 and greater%y==0):\n",
    "            return(greater)\n",
    "            break\n",
    "        greater=greater+1\n",
    "        \n",
    "find_lcm(3,4)        "
   ]
  },
  {
   "cell_type": "markdown",
   "metadata": {},
   "source": [
    "2.\tWrite a Python Program to Find HCF?"
   ]
  },
  {
   "cell_type": "code",
   "execution_count": 2,
   "metadata": {},
   "outputs": [
    {
     "data": {
      "text/plain": [
       "30"
      ]
     },
     "execution_count": 2,
     "metadata": {},
     "output_type": "execute_result"
    }
   ],
   "source": [
    "#HCF,greatest common factor (GCF) or greatest common divisor (GCD) is the factor of any two or more numbers, which are common among them. \n",
    "def find_gcd(x,y):\n",
    "    if y==0:\n",
    "        return x\n",
    "    else:\n",
    "        return find_gcd(y,x%y)\n",
    "find_gcd(60,90)    "
   ]
  },
  {
   "cell_type": "markdown",
   "metadata": {},
   "source": [
    "3.\tWrite a Python Program to Convert Decimal to Binary, Octal and Hexadecimal?"
   ]
  },
  {
   "cell_type": "code",
   "execution_count": 3,
   "metadata": {},
   "outputs": [
    {
     "name": "stdout",
     "output_type": "stream",
     "text": [
      "The decimal value of is 777\n",
      "The binary of 777 is 0b1100001001\n",
      "The octal of 777 is 0o1411\n",
      "The hexadecimal of 777 is 0x309\n"
     ]
    }
   ],
   "source": [
    "dec=777\n",
    "print(\"The decimal value of is\",dec)\n",
    "print(\"The binary of\",dec, \"is\",bin(dec))\n",
    "print(\"The octal of\",dec, \"is\",oct(dec))\n",
    "print(\"The hexadecimal of\",dec, \"is\",hex(dec))"
   ]
  },
  {
   "cell_type": "markdown",
   "metadata": {},
   "source": [
    "4.\tWrite a Python Program To Find ASCII value of a character?"
   ]
  },
  {
   "cell_type": "code",
   "execution_count": 5,
   "metadata": {},
   "outputs": [
    {
     "name": "stdout",
     "output_type": "stream",
     "text": [
      "please enter a character A\n",
      "ASCII value of A is  65\n"
     ]
    }
   ],
   "source": [
    "ch=input(\"please enter a character \")\n",
    "print(\"ASCII value of\",ch,\"is \",ord(ch))"
   ]
  },
  {
   "cell_type": "markdown",
   "metadata": {},
   "source": [
    "5.\tWrite a Python Program to Make a Simple Calculator with 4 basic mathematical operations?"
   ]
  },
  {
   "cell_type": "code",
   "execution_count": 7,
   "metadata": {},
   "outputs": [
    {
     "name": "stdout",
     "output_type": "stream",
     "text": [
      "Operations allowed are: 1. Add, 2. Subtract 3. Multiply 4. Divide\n",
      "(enter your choice of operation- 1 or 2 or 3 or 4 )3\n",
      "enter first integer 4\n",
      "enter second integer 3\n",
      "The product of numbers  4 and 3 is 12\n"
     ]
    }
   ],
   "source": [
    "def add(a,b):\n",
    "    return a+b\n",
    "def subtract(a,b):\n",
    "    return a-b\n",
    "def multiply(a,b):\n",
    "    return a*b\n",
    "def divide(a,b):\n",
    "    return a/b\n",
    "\n",
    "print(\"Operations allowed are: 1. Add, 2. Subtract 3. Multiply 4. Divide\")\n",
    "choice=int(input(\"(enter your choice of operation- 1 or 2 or 3 or 4 )\"))\n",
    "a=int(input(\"enter first integer \"))\n",
    "b=int(input(\"enter second integer \"))\n",
    "if choice==1:\n",
    "    print(\"The addition of numbers \",a, \"and\", b, \"is\",add(a,b) )\n",
    "if choice==2:    \n",
    "    print(\"The subtract of numbers \",a, \"and\", b, \"is\",subtract(a,b) )\n",
    "if choice==3: \n",
    "    print(\"The product of numbers \",a, \"and\", b, \"is\",multiply(a,b) )\n",
    "if choice==4:  \n",
    "    print(\"The division of numbers \",a, \"and\", b, \"is\",divide(a,b) )"
   ]
  }
 ],
 "metadata": {
  "kernelspec": {
   "display_name": "Python 3",
   "language": "python",
   "name": "python3"
  },
  "language_info": {
   "codemirror_mode": {
    "name": "ipython",
    "version": 3
   },
   "file_extension": ".py",
   "mimetype": "text/x-python",
   "name": "python",
   "nbconvert_exporter": "python",
   "pygments_lexer": "ipython3",
   "version": "3.8.5"
  }
 },
 "nbformat": 4,
 "nbformat_minor": 4
}
