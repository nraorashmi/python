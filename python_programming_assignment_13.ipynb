{
 "cells": [
  {
   "cell_type": "markdown",
   "metadata": {},
   "source": [
    "Question 1:\n",
    "Write a program that calculates and prints the value according to the given formula:\n",
    "Q = Square root of [(2 * C * D)/H]\n",
    "Following are the fixed values of C and H:\n",
    "C is 50. H is 30.\n",
    "D is the variable whose values should be input to your program in a comma-separated sequence.\n",
    "Example\n",
    "Let us assume the following comma separated input sequence is given to the program:\n",
    "100,150,180\n",
    "The output of the program should be:\n",
    "18,22,24"
   ]
  },
  {
   "cell_type": "code",
   "execution_count": 58,
   "metadata": {},
   "outputs": [
    {
     "name": "stdout",
     "output_type": "stream",
     "text": [
      "enter the comma separated sequence 100,150,180\n",
      "value of d is [100, 150, 180]\n",
      "output of the program is  [18, 22, 24]\n"
     ]
    }
   ],
   "source": [
    "c=50\n",
    "h=30\n",
    "d=input(\"enter the comma separated sequence \")\n",
    "d=d.split(',')\n",
    "d=list(map(int,d))   #converting string to list\n",
    "print(\"value of d is\", d)\n",
    "output=[]\n",
    "for i in range(len(d)):\n",
    "    q=int(pow(((2*c*d[i])/h),0.5))\n",
    "    output.append(q) \n",
    "print( \"output of the program is \",output)"
   ]
  },
  {
   "cell_type": "markdown",
   "metadata": {},
   "source": [
    "Question 2:\n",
    "Write a program which takes 2 digits, X,Y as input and generates a 2-dimensional array. The element value in the i-th row and j-th column of the array should be i*j.\n",
    "Note: i=0,1.., X-1; j=0,1,¡¬Y-1.\n",
    "Example\n",
    "Suppose the following inputs are given to the program:\n",
    "3,5\n",
    "Then, the output of the program should be:\n",
    "[[0, 0, 0, 0, 0], [0, 1, 2, 3, 4], [0, 2, 4, 6, 8]] "
   ]
  },
  {
   "cell_type": "code",
   "execution_count": 47,
   "metadata": {},
   "outputs": [
    {
     "name": "stdout",
     "output_type": "stream",
     "text": [
      "enter the number of rows 3\n",
      "enter the number of columns 5\n",
      "[[0, 0, 0, 0, 0], [0, 1, 2, 3, 4], [0, 2, 4, 6, 8]]\n"
     ]
    }
   ],
   "source": [
    "x=int(input(\"enter the number of rows \"))\n",
    "y=int(input(\"enter the number of columns \"))\n",
    "m=[]\n",
    "for i in range(x):\n",
    "    a=[]\n",
    "    for j in range(y):\n",
    "        a.append(i*j)\n",
    "    m.append(a)\n",
    "print(m)        "
   ]
  },
  {
   "cell_type": "code",
   "execution_count": 48,
   "metadata": {},
   "outputs": [
    {
     "name": "stdout",
     "output_type": "stream",
     "text": [
      "enter the number of rows 3\n",
      "enter the number of columns 5\n",
      "[[0, 0, 0, 0, 0], [0, 1, 2, 3, 4], [0, 2, 4, 6, 8]]\n"
     ]
    }
   ],
   "source": [
    "x=int(input(\"enter the number of rows \"))\n",
    "y=int(input(\"enter the number of columns \"))\n",
    "a=[[i*j for j in range(y)]  for i in range(x)]\n",
    "print(a)     "
   ]
  },
  {
   "cell_type": "markdown",
   "metadata": {},
   "source": [
    "Question 3:\n",
    "Write a program that accepts a comma separated sequence of words as input and prints the words in a comma-separated sequence after sorting them alphabetically.\n",
    "Suppose the following input is supplied to the program:\n",
    "without,hello,bag,world\n",
    "Then, the output should be:\n",
    "bag,hello,without,world"
   ]
  },
  {
   "cell_type": "code",
   "execution_count": 63,
   "metadata": {},
   "outputs": [
    {
     "name": "stdout",
     "output_type": "stream",
     "text": [
      "enter comma separated sequence of words -without,hello,bag,world\n",
      "bag,hello,without,world\n"
     ]
    }
   ],
   "source": [
    "s=input(\"enter comma separated sequence of words -\")\n",
    "words=[i for i in s.split(\",\")]\n",
    "print(\",\".join(sorted(words)))"
   ]
  },
  {
   "cell_type": "markdown",
   "metadata": {},
   "source": [
    "Question 4:\n",
    "Write a program that accepts a sequence of whitespace separated words as input and prints the words after removing all duplicate words and sorting them alphanumerically.\n",
    "Suppose the following input is supplied to the program:\n",
    "hello world and practice makes perfect and hello world again\n",
    "Then, the output should be:\n",
    "again and hello makes perfect practice world"
   ]
  },
  {
   "cell_type": "code",
   "execution_count": 78,
   "metadata": {},
   "outputs": [
    {
     "name": "stdout",
     "output_type": "stream",
     "text": [
      "enter input -hello world and practice makes perfect and hello world again\n",
      "again and hello makes perfect practice world\n"
     ]
    }
   ],
   "source": [
    "s=input(\"enter input -\")\n",
    "s=sorted(set(s.split()))\n",
    "print(' '.join(s))"
   ]
  },
  {
   "cell_type": "markdown",
   "metadata": {},
   "source": [
    "Question 5:\n",
    "Write a program that accepts a sentence and calculate the number of letters and digits.\n",
    "Suppose the following input is supplied to the program:\n",
    "hello world! 123\n",
    "Then, the output should be:\n",
    "LETTERS 10\n",
    "DIGITS 3"
   ]
  },
  {
   "cell_type": "code",
   "execution_count": 83,
   "metadata": {},
   "outputs": [
    {
     "name": "stdout",
     "output_type": "stream",
     "text": [
      "enter sentence with letters and digits -hello world! 123\n",
      "LETTERS  10\n",
      "DIGITS  3\n"
     ]
    }
   ],
   "source": [
    "s=input(\"enter sentence with letters and digits -\")\n",
    "lcount=0\n",
    "ncount=0\n",
    "for i in s:\n",
    "    if i.isalpha():\n",
    "        lcount=lcount+1\n",
    "    elif i.isdigit():\n",
    "        ncount=ncount+1\n",
    "print(\"LETTERS \",lcount)   \n",
    "print(\"DIGITS \",ncount)   "
   ]
  },
  {
   "cell_type": "markdown",
   "metadata": {},
   "source": [
    "Question 6:\n",
    "A website requires the users to input username and password to register. Write a program to check the validity of password input by users.\n",
    "Following are the criteria for checking the password:\n",
    "1. At least 1 letter between [a-z]\n",
    "2. At least 1 number between [0-9]\n",
    "1. At least 1 letter between [A-Z]\n",
    "3. At least 1 character from [$#@]\n",
    "4. Minimum length of transaction password: 6\n",
    "5. Maximum length of transaction password: 12\n",
    "Your program should accept a sequence of comma separated passwords and will check them according to the above criteria. Passwords that match the criteria are to be printed, each separated by a comma.\n",
    "Example\n",
    "If the following passwords are given as input to the program:\n",
    "ABd1234@1,a F1#,2w3E*,2We3345\n",
    "Then, the output of the program should be:\n",
    "ABd1234@1"
   ]
  },
  {
   "cell_type": "code",
   "execution_count": 195,
   "metadata": {},
   "outputs": [
    {
     "name": "stdout",
     "output_type": "stream",
     "text": [
      "enter comma separated passwords with each having atleast one capital, small case, number and special character -ABd1234@1,a F1#,2w3E*,2We3345\n",
      "correct password is ABd1234@1\n"
     ]
    }
   ],
   "source": [
    "import string\n",
    "# try input data ABd1234@1,a F1#,2w3E*,2We3345,WeWeWe#,Abd1@tttttttt,abcd##1,ABCD@@2,ABd1234@1,Abd2@g4\n",
    "s=input(\"enter comma separated passwords with each having atleast one capital, small case, number and special character -\")\n",
    "s=s.split(',')\n",
    "p=set([i for i in s for j in i if j in string.punctuation])\n",
    "o=''\n",
    "for i in p:   \n",
    "    if any(j.isupper() for j in i) ==False or any(j.islower() for j in i)==False or any(j.isdigit() for j in i )==False:\n",
    "        continue \n",
    "    elif (len(i) < 6 or len(i) >12 ) :\n",
    "        continue       \n",
    "    else:\n",
    "        if len(o)==0:\n",
    "            o=i\n",
    "        else:\n",
    "            o=o+\",\"+i\n",
    "print(\"correct password is\",o)\n"
   ]
  },
  {
   "cell_type": "code",
   "execution_count": null,
   "metadata": {},
   "outputs": [],
   "source": []
  }
 ],
 "metadata": {
  "kernelspec": {
   "display_name": "Python 3",
   "language": "python",
   "name": "python3"
  },
  "language_info": {
   "codemirror_mode": {
    "name": "ipython",
    "version": 3
   },
   "file_extension": ".py",
   "mimetype": "text/x-python",
   "name": "python",
   "nbconvert_exporter": "python",
   "pygments_lexer": "ipython3",
   "version": "3.8.5"
  }
 },
 "nbformat": 4,
 "nbformat_minor": 4
}
